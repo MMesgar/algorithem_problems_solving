{
 "cells": [
  {
   "cell_type": "markdown",
   "metadata": {},
   "source": [
    "# DFS"
   ]
  },
  {
   "cell_type": "markdown",
   "metadata": {},
   "source": [
    "# (1) DFS\n",
    "\n",
    "Genrally in DFS we should focus on three points:\n",
    "\n",
    "(1) store the graph in a hash table (adjacency list) to easily access the neigbours of a node\n",
    "\n",
    "(2) go into the depth -> use  ``stack`` -> which is a list and pop the last item ``.pop(-1)``\n",
    "\n",
    "(3) avoid visiting already founded goals (nodes or paths) nodes. \n",
    "\n",
    "## (1) Traverse **all nodes** in a graph;\n",
    "\n",
    "### Implementation Tricks\n",
    "\n",
    "(1) Fill the stack with neighbouring nodes of the current node\n",
    "\n",
    "(2) use a color list to color all visited nodes\n",
    "\n",
    "### Complexity\n",
    "\n",
    "(1) Time Complexity: ``O(V+E)``\n",
    "\n",
    "(2) Space Complexity: ``O(V+E)``\n",
    "\n",
    "\n",
    "\n",
    "## (2) Traverse **all paths between any two specific given nodes** in a graph.\n",
    "\n",
    "\n",
    "### Implementation Tricks\n",
    "\n",
    "(1) Fill the stack with the paths we have traversed so far. \n",
    "\n",
    "\n",
    "(2) Avoid visiting nodes in the path that is exploring. To do so, simply check if the neighbour is part of the path poped from the stack or not. **Thus, we don't need visited set for this use case.**\n",
    "\n",
    "### Complexity \n",
    "\n",
    "(1) Time: ``O((V-1)!)``, which happens in a complete graph.\n",
    "\n",
    "(2) Space: ``O(V^3) ``,\n",
    "\n",
    "\n",
    "## (3) Finding the shortest path between two nodes in a graph -> (Optimization in a graph)\n",
    "\n",
    "If we can find all paths between two nodes using DFS, we can then find the shortest path between two nodes in a graph. \n",
    "\n",
    "\n",
    "\n",
    "\n"
   ]
  },
  {
   "cell_type": "markdown",
   "metadata": {},
   "source": [
    "# Problem: Find if Path Exists in Graph (Are two nodes connected in agraph)\n",
    "\n",
    "There is a bi-directional graph with ``n`` vertices, where each vertex is labeled from ``0`` to ``n - 1`` (inclusive). \n",
    "The edges in the graph are represented as a 2D integer array edges, where each ``edges[i] = [ui, vi]`` denotes a bi-directional edge between vertex ``ui`` and vertex ``vi``. \n",
    "Every vertex pair is connected by at most one edge, and no vertex has an edge to itself.\n",
    "\n",
    "You want to determine if there is a valid path that exists from vertex ``source`` to vertex ``destination``.\n",
    "\n",
    "Given edges and the integers ``n, source, and destination``, return ``true`` if there is a valid path from source to destination, or ``false`` otherwise.\n",
    "\n",
    "```\n",
    "Input: n = 3, edges = [[0,1],[1,2],[2,0]], source = 0, destination = 2\n",
    "Output: true\n",
    "```"
   ]
  },
  {
   "cell_type": "code",
   "execution_count": 13,
   "metadata": {},
   "outputs": [],
   "source": [
    "# Two ideas: (1) Disjoint Set (2) DFS\n",
    "from typing import List\n",
    "class Solution:\n",
    "    def validPath(self, n: int, edges: List[List[int]], source: int, destination: int) -> bool:\n",
    "        graph = {i:[] for i in range(n)}\n",
    "        for [u,v] in edges:\n",
    "            graph[u].append(v)\n",
    "            graph[v].append(u)\n",
    "            \n",
    "        stack = []\n",
    "        visited = set()\n",
    "        stack.append(source)\n",
    "        while stack:\n",
    "            x = stack.pop(-1)\n",
    "            visited.add(x)\n",
    "            if x == destination:\n",
    "                return True\n",
    "            for item in graph[x]:\n",
    "                if item not in visited:\n",
    "                    stack.append(item)\n",
    "        return False"
   ]
  },
  {
   "cell_type": "code",
   "execution_count": 14,
   "metadata": {},
   "outputs": [
    {
     "name": "stdout",
     "output_type": "stream",
     "text": [
      "True\n",
      "False\n"
     ]
    }
   ],
   "source": [
    "# Test Case\n",
    "sl = Solution()\n",
    "print(sl.validPath(n = 3, edges = [[0,1],[1,2],[2,0]], source = 0, destination = 2)) # true\n",
    "print(sl.validPath(n = 6, edges = [[0,1],[0,2],[3,5],[5,4],[4,3]], source = 0, destination = 5)) # false\n"
   ]
  },
  {
   "cell_type": "markdown",
   "metadata": {},
   "source": [
    "# Problem: All Paths From Source to Target\n",
    "\n",
    "Given a directed acyclic graph (DAG) of ``n`` nodes labeled from ``0`` to ``n - 1``, find all possible paths from node ``0`` to node ``n - 1`` and return them in any order.\n",
    "\n",
    "The graph is given as follows: ``graph[i]`` is a list of all nodes you can visit from node i (i.e., there is a directed edge from node ``i`` to node ``graph[i][j]``).\n",
    "\n"
   ]
  },
  {
   "cell_type": "code",
   "execution_count": 33,
   "metadata": {},
   "outputs": [],
   "source": [
    "# (1) all possible paths between two specific given nodes in a graph -> DFS\n",
    "class Solution:\n",
    "    def allPathsSourceTarget(self, graph: List[List[int]]) -> List[List[int]]:\n",
    "        n = len(graph)\n",
    "        stack = [[0]] # we store paths\n",
    "        output = []\n",
    "        while stack:\n",
    "            x = stack.pop(-1)\n",
    "            if x[-1] == n-1:\n",
    "                output.append(x)\n",
    "                continue\n",
    "            for item in graph[x[-1]]:\n",
    "                if item not in x:\n",
    "                    expanded_path = x[:]\n",
    "                    expanded_path.append(item)\n",
    "                    stack.append(expanded_path[:])\n",
    "        return output"
   ]
  },
  {
   "cell_type": "code",
   "execution_count": 34,
   "metadata": {},
   "outputs": [
    {
     "data": {
      "text/plain": [
       "[[0, 1, 4], [0, 1, 2, 3, 4], [0, 1, 3, 4], [0, 3, 4], [0, 4]]"
      ]
     },
     "execution_count": 34,
     "metadata": {},
     "output_type": "execute_result"
    }
   ],
   "source": [
    "# Test case\n",
    "sl=Solution()\n",
    "sl.allPathsSourceTarget([[4,3,1],[3,2,4],[3],[4],[]]) # [[0,4],[0,3,4],[0,1,3,4],[0,1,2,3,4],[0,1,4]]"
   ]
  },
  {
   "cell_type": "code",
   "execution_count": 35,
   "metadata": {},
   "outputs": [],
   "source": [
    "# implmenting DFS using recursion\n",
    "class Solution:\n",
    "    def allPathsSourceTarget(self, graph: List[List[int]]) -> List[List[int]]:\n",
    "        paths = []\n",
    "        path = []\n",
    "        def dfs(node):\n",
    "            path.append(node)\n",
    "            if node == len(graph) - 1:\n",
    "                paths.append(path.copy())\n",
    "                return\n",
    "\n",
    "            next_nodes = graph[node]\n",
    "            for next_node in next_nodes:\n",
    "                dfs(next_node)\n",
    "                path.pop()\n",
    "\n",
    "        if not graph or len(graph) == 0:\n",
    "            return paths\n",
    "        dfs(0)\n",
    "        return paths"
   ]
  },
  {
   "cell_type": "markdown",
   "metadata": {},
   "source": [
    "# Problem: Clone Graph\n",
    "\n",
    "Given a reference of a node in a connected undirected graph. Return a deep copy (clone) of the graph.\n",
    "\n",
    "Each node in the graph contains a value (int) and a list (List[Node]) of its neighbors.\n",
    "\n",
    "```\n",
    "class Node \n",
    "{\n",
    "    public int val;\n",
    "    public List<Node> neighbors;\n",
    "}\n",
    "```\n",
    " \n",
    "\n",
    "Test case format:\n",
    "\n",
    "For simplicity, each node's value is the same as the node's index (1-indexed). \n",
    "For example, the first node with ``val == 1``, the second node with ``val == 2``, and so on. The graph is represented in the test case using an adjacency list.\n",
    "An adjacency list is a collection of unordered lists used to represent a finite graph. Each list describes the set of neighbors of a node in the graph.\n",
    "\n",
    "The given node will always be the first node with ``val = 1``. You must return the copy of the given node as a reference to the cloned graph.\n",
    "\n",
    "\n",
    "\n"
   ]
  },
  {
   "cell_type": "code",
   "execution_count": 37,
   "metadata": {},
   "outputs": [],
   "source": [
    "\"\"\"\n",
    "# Definition for a Node.\n",
    "class Node:\n",
    "    def __init__(self, val = 0, neighbors = None):\n",
    "        self.val = val\n",
    "        self.neighbors = neighbors if neighbors is not None else []\n",
    "\"\"\"\n",
    "\n",
    "class Solution:\n",
    "   \n",
    "        \n",
    "    def cloneGraph(self, node: 'Node') -> 'Node':\n",
    "        visited = {}\n",
    "        \n",
    "        def helper(node):\n",
    "        \n",
    "            if not node:\n",
    "                return node\n",
    "            \n",
    "            if node in visited:\n",
    "                return visited[node]\n",
    "            \n",
    "            node_clone = Node(node.val, [])\n",
    "            \n",
    "            visited[node] = node_clone\n",
    "            \n",
    "            for item in node.neighbors:\n",
    "                item_cloned = helper(item)\n",
    "                node_clone.neighbors.append(item_cloned)\n",
    "            \n",
    "            return node_clone\n",
    "        \n",
    "        return helper(node)"
   ]
  },
  {
   "cell_type": "markdown",
   "metadata": {},
   "source": [
    "#  Problem: Reconstruct Itinerary\n",
    "You are given a list of airline tickets where ``tickets[i] = [fromi, toi]`` represent the departure and the arrival airports of one flight. \n",
    "Reconstruct the itinerary in order and return it.\n",
    "\n",
    "All of the tickets belong to a man who departs from \"JFK\", thus, the itinerary must begin with \"JFK\". If there are multiple valid itineraries, you should return the itinerary that has the smallest lexical order when read as a single string.\n",
    "\n",
    "For example, the itinerary ``[\"JFK\", \"LGA\"]`` has a smaller lexical order than ``[\"JFK\", \"LGB\"]``.\n",
    "You may assume all tickets form at least one valid itinerary. You must use all the tickets once and only once.\n",
    "\n"
   ]
  },
  {
   "cell_type": "code",
   "execution_count": 70,
   "metadata": {},
   "outputs": [],
   "source": [
    "# we are going to visit all nodes in agraph\n",
    "# if there is a tie we should visit the neighbors in lexical order\n",
    "from typing import List\n",
    "class Solution:\n",
    "    def findItinerary(self, tickets: List[List[str]]) -> List[str]:\n",
    "        graph = {}\n",
    "        visited = {}\n",
    "        for [u,v] in tickets:\n",
    "            if u not in graph:\n",
    "                graph[u] = []\n",
    "                visited[u]= []\n",
    "            if v not in graph:\n",
    "                graph[v] = []\n",
    "                visited[v] = []\n",
    "            graph[u].append(v)\n",
    "            visited[u].append(False)\n",
    "\n",
    "        # sort the itinerary based on the lexical order\n",
    "        for origin, itinerary in graph.items():\n",
    "            # Note that we could have multiple identical flights, i.e. same origin and destination.\n",
    "            itinerary.sort()   \n",
    "        \n",
    "        num_of_tickets = len(tickets)\n",
    "        state = ['JFK']\n",
    "        \n",
    "        def backtracking(src, curr_state):\n",
    "\n",
    "            # is curr_state a solution?\n",
    "            if len(curr_state) == num_of_tickets + 1:\n",
    "                return curr_state, True\n",
    "            \n",
    "            \n",
    "            # let's assume backtracking fills the state from src\n",
    "            for i, nextDest in enumerate(graph[src]):\n",
    "                if not visited[src][i]:\n",
    "                    # mark the visit before the next recursion\n",
    "                    visited[src][i] = True\n",
    "                    new_state,validity =  backtracking(nextDest, curr_state + [nextDest])\n",
    "                    visited[src][i] = False\n",
    "                    if validity:\n",
    "                        return new_state, True\n",
    "\n",
    "            return curr_state, False\n",
    "        \n",
    "        new_state, validity = backtracking('JFK', state)\n",
    "        \n",
    "        if validity:\n",
    "            return new_state\n",
    "\n",
    "        \n"
   ]
  },
  {
   "cell_type": "code",
   "execution_count": 73,
   "metadata": {
    "scrolled": true
   },
   "outputs": [
    {
     "name": "stdout",
     "output_type": "stream",
     "text": [
      "['JFK', 'MUC', 'LHR', 'SFO', 'SJC']\n",
      "['JFK', 'ATL', 'JFK', 'SFO', 'ATL', 'SFO']\n",
      "['JFK', 'NRT', 'JFK', 'KUL']\n",
      "['JFK', 'ANU', 'EZE', 'AXA', 'TIA', 'ANU', 'JFK', 'TIA', 'ANU', 'TIA', 'JFK']\n",
      "['JFK', 'AXA', 'AUA', 'ADL', 'ANU', 'AUA', 'ANU', 'EZE', 'ADL', 'EZE', 'ANU', 'JFK', 'AXA', 'EZE', 'TIA', 'AUA', 'AXA', 'TIA', 'ADL', 'EZE', 'HBA']\n"
     ]
    }
   ],
   "source": [
    "# Test Case\n",
    "sl= Solution()\n",
    "input = [[\"MUC\",\"LHR\"],[\"JFK\",\"MUC\"],[\"SFO\",\"SJC\"],[\"LHR\",\"SFO\"]] # [\"JFK\",\"MUC\",\"LHR\",\"SFO\",\"SJC\"]\n",
    "print(sl.findItinerary(input))\n",
    "\n",
    "input = [[\"JFK\",\"SFO\"],[\"JFK\",\"ATL\"],[\"SFO\",\"ATL\"],[\"ATL\",\"JFK\"],[\"ATL\",\"SFO\"]] # [\"JFK\",\"ATL\",\"JFK\",\"SFO\",\"ATL\",\"SFO\"] \n",
    "print(sl.findItinerary(input))\n",
    "\n",
    "input = [[\"JFK\",\"KUL\"],[\"JFK\",\"NRT\"],[\"NRT\",\"JFK\"]]# [\"JFK\",\"NRT\",\"JFK\",\"KUL\"] \n",
    "print(sl.findItinerary(input))\n",
    "\n",
    "input = [[\"EZE\",\"AXA\"],[\"TIA\",\"ANU\"],[\"ANU\",\"JFK\"],[\"JFK\",\"ANU\"],[\"ANU\",\"EZE\"],[\"TIA\",\"ANU\"],[\"AXA\",\"TIA\"],[\"TIA\",\"JFK\"],[\"ANU\",\"TIA\"],[\"JFK\",\"TIA\"]]\n",
    "print(sl.findItinerary(input)) # [\"JFK\",\"ANU\",\"EZE\",\"AXA\",\"TIA\",\"ANU\",\"JFK\",\"TIA\",\"ANU\",\"TIA\",\"JFK\"]\n",
    "\n",
    "input=[[\"EZE\",\"TIA\"],[\"EZE\",\"HBA\"],[\"AXA\",\"TIA\"],[\"JFK\",\"AXA\"],[\"ANU\",\"JFK\"],[\"ADL\",\"ANU\"],[\"TIA\",\"AUA\"],[\"ANU\",\"AUA\"],[\"ADL\",\"EZE\"],[\"ADL\",\"EZE\"],[\"EZE\",\"ADL\"],[\"AXA\",\"EZE\"],[\"AUA\",\"AXA\"],[\"JFK\",\"AXA\"],[\"AXA\",\"AUA\"],[\"AUA\",\"ADL\"],[\"ANU\",\"EZE\"],[\"TIA\",\"ADL\"],[\"EZE\",\"ANU\"],[\"AUA\",\"ANU\"]]\n",
    "print(sl.findItinerary(input)) # \n"
   ]
  },
  {
   "cell_type": "markdown",
   "metadata": {},
   "source": [
    "# All Paths from Source Lead to Destination\n",
    "\n",
    "Given the edges of a directed graph where ``edges[i] = [ai, bi]`` indicates there is an edge between nodes ``ai`` and ``bi``, and two nodes source and destination of this graph, determine whether or not all paths starting from source eventually, end at destination, that is:\n",
    "\n",
    "At least one path exists from the source node to the destination node\n",
    "If a path exists from the source node to a node with no outgoing edges, then that node is equal to destination.\n",
    "The number of possible paths from source to destination is a finite number.\n",
    "Return true if and only if all roads from source lead to destination."
   ]
  },
  {
   "cell_type": "code",
   "execution_count": 74,
   "metadata": {},
   "outputs": [],
   "source": [
    "class Solution:\n",
    "    def leadsToDestination(self, n: int, edges: List[List[int]], source: int, destination: int) -> bool:\n",
    "        \n",
    "        if len(edges) == 0:\n",
    "            if source == destination:\n",
    "                return True\n",
    "            return False\n",
    "                \n",
    "        \n",
    "        self.graph = {}\n",
    "        for [u,v] in edges:\n",
    "            if u not in self.graph:\n",
    "                self.graph[u] = []\n",
    "            if v not in self.graph:\n",
    "                self.graph[v] = []\n",
    "            self.graph[u].append(v)\n",
    "        \n",
    "        self.visited = {node:'w' for node in self.graph.keys()}\n",
    "        self.destination = destination\n",
    "        \n",
    "        return self.dfs(source)\n",
    "        \n",
    "    def dfs(self, node):\n",
    "        \n",
    "        # if there is a cycle, => false\n",
    "        if self.visited[node]=='g':\n",
    "                return False\n",
    "        \n",
    "        # check if there is no way to go or the node is a leaf node, and is not destination => False\n",
    "        if len(self.graph[node])==0:\n",
    "            if node != self.destination:\n",
    "                return False\n",
    "            return True\n",
    "        \n",
    "        # change the node's color as gray as you want to start processing it\n",
    "        self.visited[node] = 'g'\n",
    "        \n",
    "        # check the neighbours. If one of the neighbours does not lead to destination => False\n",
    "        for neighbour in self.graph[node]:\n",
    "            output =  self.dfs(neighbour)\n",
    "            if output == False:\n",
    "                return False\n",
    "        # set the color to black as we finished processing the node\n",
    "        self.visited[node] = 'b'\n",
    "        return True"
   ]
  },
  {
   "cell_type": "code",
   "execution_count": 170,
   "metadata": {},
   "outputs": [],
   "source": []
  },
  {
   "cell_type": "code",
   "execution_count": null,
   "metadata": {},
   "outputs": [],
   "source": []
  },
  {
   "cell_type": "code",
   "execution_count": null,
   "metadata": {},
   "outputs": [],
   "source": []
  },
  {
   "cell_type": "code",
   "execution_count": null,
   "metadata": {},
   "outputs": [],
   "source": []
  },
  {
   "cell_type": "code",
   "execution_count": null,
   "metadata": {},
   "outputs": [],
   "source": []
  }
 ],
 "metadata": {
  "kernelspec": {
   "display_name": "Python 3",
   "language": "python",
   "name": "python3"
  },
  "language_info": {
   "codemirror_mode": {
    "name": "ipython",
    "version": 3
   },
   "file_extension": ".py",
   "mimetype": "text/x-python",
   "name": "python",
   "nbconvert_exporter": "python",
   "pygments_lexer": "ipython3",
   "version": "3.7.1"
  }
 },
 "nbformat": 4,
 "nbformat_minor": 2
}
