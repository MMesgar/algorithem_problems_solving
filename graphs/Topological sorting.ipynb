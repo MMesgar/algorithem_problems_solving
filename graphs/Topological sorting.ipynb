{
 "cells": [
  {
   "cell_type": "markdown",
   "metadata": {},
   "source": [
    "# Topological sorting\n",
    "\n",
    "- The most popular algorithm for “topological sorting” is Kahn’s algorithm. \n",
    "\n",
    "- “Topological sorting” only works with graphs that are directed and acyclic. \n",
    "\n",
    "- Topological sorting works based on the indegree of nodes. We start with a node with an indegree of zero. We put in the output and remove it from the graph. We reduce the indegree of its neighbours by one (because we remvoed the). Then we remove the node with indegree 0. We continute until we process all nodes. \n",
    "\n",
    "- There must be at least one vertex in the “graph” with an “in-degree” of 0. If all vertices in the “graph” have a non-zero “in-degree”, then all vertices need at least one vertex as a predecessor. In this case, no vertex can serve as the starting vertex.\n",
    "\n",
    "- Time complexity O(V + E)\n",
    "\n",
    "- Space complexity O(V + E)\n",
    "\n",
    "\n"
   ]
  },
  {
   "cell_type": "markdown",
   "metadata": {},
   "source": [
    "# Problem Course Schedule II\n",
    "\n",
    "There are a total of numCourses courses you have to take, labeled from 0 to numCourses - 1. You are given an array prerequisites where prerequisites[i] = [ai, bi] indicates that you must take course bi first if you want to take course ai.\n",
    "\n",
    "For example, the pair [0, 1], indicates that to take course 0 you have to first take course 1.\n",
    "Return the ordering of courses you should take to finish all courses. If there are many valid answers, return any of them. If it is impossible to finish all courses, return an empty array.\n",
    "\n",
    "```\n",
    "Input: numCourses = 2, prerequisites = [[1,0]]\n",
    "Output: [0,1]\n",
    "Explanation: There are a total of 2 courses to take. To take course 1 you should have finished course 0. So the correct course order is [0,1].\n",
    "```"
   ]
  },
  {
   "cell_type": "code",
   "execution_count": 2,
   "metadata": {},
   "outputs": [],
   "source": []
  },
  {
   "cell_type": "markdown",
   "metadata": {},
   "source": [
    "# Problem: Alien Dictionary\n",
    "\n",
    "There is a new alien language that uses the English alphabet. However, the order among the letters is unknown to you.\n",
    "\n",
    "You are given a list of strings words from the alien language's dictionary, where the strings in words are sorted lexicographically by the rules of this new language.\n",
    "\n",
    "Return a string of the unique letters in the new alien language sorted in lexicographically increasing order by the new language's rules. If there is no solution, return \"\". If there are multiple solutions, return any of them.\n",
    "\n",
    "A string s is lexicographically smaller than a string t if at the first letter where they differ, the letter in s comes before the letter in t in the alien language. If the first min(s.length, t.length) letters are the same, then s is smaller if and only if s.length < t.length.\n",
    "\n",
    "```\n",
    "put: words = [\"wrt\",\"wrf\",\"er\",\"ett\",\"rftt\"]\n",
    "Output: \"wertf\"\n",
    "```\n"
   ]
  },
  {
   "cell_type": "code",
   "execution_count": 4,
   "metadata": {},
   "outputs": [],
   "source": [
    "class Solution:\n",
    "    def alienOrder(self, words: List[str]) -> str:\n",
    "        \n",
    "        # nodes in the graph are alphabets in English\n",
    "        alphabets = list(set(''.join(words)))\n",
    "        \n",
    "        \n",
    "        # the order between nodes should be defined based on the order of strings in words\n",
    "        graph = {al:[] for al in alphabets}\n",
    "        \n",
    "        # use the order of strings in words to define the graph\n",
    "        n = len(words)\n",
    "        for str_i_idx in range(n):\n",
    "            for str_j_idx in range(str_i_idx, n):\n",
    "                str_i = words[str_i_idx]\n",
    "                str_j = words[str_j_idx]\n",
    "                # check for inconsistency in the words list\n",
    "                if str_i[:min([len(str_i), len(str_j)])] == str_j[:min([len(str_i), len(str_j)])] and len(str_i)> len(str_j):\n",
    "                    return \"\"\n",
    "                for k in range(len(str_i)):\n",
    "                    if str_i[k] != str_j[k]:\n",
    "                        if str_j[k] not in graph[str_i[k]]:\n",
    "                            graph[str_i[k]].append(str_j[k])\n",
    "                        break\n",
    "                        \n",
    "        # to find the order of alphabets, we apply Topological sorting\n",
    "        # the idea is to process nodes with indegree 0 at each time\n",
    "        indegree = {al:0 for al in alphabets}\n",
    "        for u, u_neighbours in graph.items():\n",
    "            for nei in u_neighbours:\n",
    "                indegree[nei] += 1\n",
    "        # we need a queue to process all nodes with indegree 0 in each step.\n",
    "        queue = []\n",
    "        \n",
    "        # fill the queue\n",
    "        for k, v in indegree.items():\n",
    "            if v==0:\n",
    "                queue.append(k)\n",
    "        \n",
    "        # we need to remove nodes with zero degree from the graph. Thus we define a visited set. \n",
    "        visited = set()\n",
    "        output = []\n",
    "        while len(queue)>0:\n",
    "            node = queue.pop(0)\n",
    "            output.append(node)\n",
    "            \n",
    "            visited.add(node)\n",
    "            \n",
    "            for nei in graph[node]:\n",
    "                if nei not in visited:\n",
    "                    indegree[nei] -= 1\n",
    "                    if indegree[nei] == 0 :\n",
    "                        queue.append(nei)\n",
    "        # check if there is a topological order or not? \n",
    "        if len(output) == len(alphabets):\n",
    "            return ''.join(output)\n",
    "        return \"\"\n",
    "                \n",
    "            "
   ]
  },
  {
   "cell_type": "code",
   "execution_count": null,
   "metadata": {},
   "outputs": [],
   "source": []
  }
 ],
 "metadata": {
  "kernelspec": {
   "display_name": "Python 3",
   "language": "python",
   "name": "python3"
  },
  "language_info": {
   "codemirror_mode": {
    "name": "ipython",
    "version": 3
   },
   "file_extension": ".py",
   "mimetype": "text/x-python",
   "name": "python",
   "nbconvert_exporter": "python",
   "pygments_lexer": "ipython3",
   "version": "3.7.1"
  }
 },
 "nbformat": 4,
 "nbformat_minor": 2
}
