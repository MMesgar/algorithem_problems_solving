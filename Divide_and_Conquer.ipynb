{
  "nbformat": 4,
  "nbformat_minor": 0,
  "metadata": {
    "colab": {
      "name": "Divide-and-Conquer.ipynb",
      "provenance": [],
      "authorship_tag": "ABX9TyN8PYWz2Z4coHFlsH7zRE/2"
    },
    "kernelspec": {
      "name": "python3",
      "display_name": "Python 3"
    },
    "language_info": {
      "name": "python"
    }
  },
  "cells": [
    {
      "cell_type": "markdown",
      "source": [
        "\n",
        "# Divide and conquer (D&C): \n",
        "A divide-and-conquer algorithm works by recursively breaking the problem down into two or more subproblems of the same or related type, until these subproblems become simple enough to be solved directly. Then one combines the results of subproblems to form the final solution. \n",
        "\n",
        "## Main difference with simple recursion:\n",
        "A subtle difference that tells a divide-and-conquer algorithm apart from other recursive algorithms is that we break the problem down into two or more subproblems in the divide-and-conquer algorithm, rather than a single smaller subproblem. The D&C recursive algorithm sometimes is called decrease and conquer instead, such as Binary Search.\n",
        "\n",
        "There are in general three steps that one can follow in order to solve the problem in a divide-and-conquer manner.\n",
        "\n",
        "1. Divide. Divide the problem S into a set of subproblems: \n",
        "${S_1, S_2, ..., S_n}$ where $n≥2$, i.e. there are usually more than one subproblem.\n",
        "\n",
        "2. Conquer. Solve each subproblem recursively. \n",
        "\n",
        "3. Combine. Combine the results of each subproblem.\n",
        "\n"
      ],
      "metadata": {
        "id": "eOaNDYqkLRBG"
      }
    },
    {
      "cell_type": "code",
      "source": [
        ""
      ],
      "metadata": {
        "id": "4blYbt1RLZfi"
      },
      "execution_count": null,
      "outputs": []
    }
  ]
}