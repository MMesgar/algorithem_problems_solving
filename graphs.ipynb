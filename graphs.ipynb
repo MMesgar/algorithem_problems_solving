{
 "cells": [
  {
   "cell_type": "markdown",
   "metadata": {},
   "source": [
    "# Graphs\n",
    "\n",
    "**Note 1** \n",
    "When we have weights on edges and nodes, the trick to convert all node weights on edges is to define a virutal node.\n",
    "\n",
    "**Note 2** \n",
    "This virtual node is connected to every node in the graph. The weight of the corresponding edges is equal to the coresponding node weight. \n",
    "\n",
    "**Note 3** \n",
    "Optimization problems on graphs mostly reduce to BFS or MST (min spannign tree) problems."
   ]
  },
  {
   "cell_type": "markdown",
   "metadata": {},
   "source": [
    "1) [Disjoint Set](./graphs/disjoint-set.ipynb)"
   ]
  },
  {
   "cell_type": "markdown",
   "metadata": {},
   "source": [
    "2) "
   ]
  },
  {
   "cell_type": "code",
   "execution_count": null,
   "metadata": {},
   "outputs": [],
   "source": []
  }
 ],
 "metadata": {
  "kernelspec": {
   "display_name": "Python 3",
   "language": "python",
   "name": "python3"
  },
  "language_info": {
   "codemirror_mode": {
    "name": "ipython",
    "version": 3
   },
   "file_extension": ".py",
   "mimetype": "text/x-python",
   "name": "python",
   "nbconvert_exporter": "python",
   "pygments_lexer": "ipython3",
   "version": "3.7.1"
  }
 },
 "nbformat": 4,
 "nbformat_minor": 2
}
