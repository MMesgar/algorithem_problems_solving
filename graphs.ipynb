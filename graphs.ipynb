{
 "cells": [
  {
   "cell_type": "markdown",
   "metadata": {},
   "source": [
    "# Graphs"
   ]
  },
  {
   "cell_type": "markdown",
   "metadata": {},
   "source": [
    "## 1. Disjoint Set"
   ]
  },
  {
   "cell_type": "markdown",
   "metadata": {},
   "source": [
    "“disjoint set” data structure, also known as the “union-find” data structure. Note that others might refer to it as an algorithm. \n",
    "\n",
    "The primary use of disjoint sets is to address the connectivity between the components of a network. The “network“ here can be a computer network or a social network. For instance, we can use a disjoint set to determine if two people share a common ancestor.\n",
    "\n",
    "**Implementation:**\n",
    "1. The find function, finds the root node of a given vertex. \n",
    "2. The union function, unions two vertices and makes their root nodes the same.\n",
    "\n",
    "\n",
    "**Quick Find:**  the time complexity of the find function will be \n",
    "O(1). However, the union function will take more time with the time complexity of \n",
    "O(N), N is the number of vertices in the graph. We need \n",
    "O(N) space to store the array of size N.\n",
    "\n",
    "**Quick Union:** compared with the Quick Find implementation, the time complexity of the union function is better. Meanwhile, the find function will take more time in this case. The time complexity of the find function is O(N), and of the union function is O(N). "
   ]
  },
  {
   "cell_type": "markdown",
   "metadata": {},
   "source": [
    "### 1.1. QuickFind implementation of Disjointset\n",
    "The idea is to define a root list to store the roots of each subset. \n",
    "Nodes in the subset can be connected to one another or they have their own parents. However, they all have one root node, which will be stored in the root list. \n",
    "The find function can efficiently return the value of each vertext in the list. \n",
    "However, the union function is a bit more complicated. \n",
    "If two nodes have the same root, they are in the same subset. We don't need to combine them. \n",
    "If they have different nodes, we need to connect their nodes. \n",
    "To do so, we iterate over all nodes in the root list. If the root of a node is identical to the root of the one of the subsets, we update its root with the root of the other subset."
   ]
  },
  {
   "cell_type": "code",
   "execution_count": 6,
   "metadata": {},
   "outputs": [
    {
     "name": "stdout",
     "output_type": "stream",
     "text": [
      "True\n",
      "True\n",
      "False\n",
      "True\n"
     ]
    }
   ],
   "source": [
    "# UnionFind class\n",
    "class UnionFind:\n",
    "    def __init__(self, size):\n",
    "        self.root = [i for i in range(size)] # we keep the root node of each node here.\n",
    "\n",
    "    def find(self, x):\n",
    "        return self.root[x]\n",
    "    \n",
    "    def union(self, x, y):\n",
    "        rootX = self.find(x)\n",
    "        rootY = self.find(y)\n",
    "        if rootX != rootY:\n",
    "            for i in range(len(self.root)):\n",
    "                if self.root[i] == rootY:\n",
    "                    self.root[i] = rootX\n",
    "\n",
    "    def connected(self, x, y):\n",
    "        return self.find(x) == self.find(y)\n",
    "    \n",
    "# Test Case\n",
    "uf = UnionFind(10)\n",
    "# 1-2-5-6-7 3-8-9 4\n",
    "uf.union(1, 2)\n",
    "uf.union(2, 5)\n",
    "uf.union(5, 6)\n",
    "uf.union(6, 7)\n",
    "uf.union(3, 8)\n",
    "uf.union(8, 9)\n",
    "print(uf.connected(1, 5))  # true\n",
    "print(uf.connected(5, 7))  # true\n",
    "print(uf.connected(4, 9))  # false\n",
    "# 1-2-5-6-7 3-8-9-4\n",
    "uf.union(9, 4)\n",
    "print(uf.connected(4, 9))  # true"
   ]
  },
  {
   "cell_type": "markdown",
   "metadata": {},
   "source": [
    "### 1.2. Quick Union - Disjoint Set\n",
    "The idea in the quick union is that the root list contains parents of each node. \n",
    "At the begining the parent each of node is iteself. \n",
    "The find function then needs to itereate over all parents of a node to find the root of its subset. \n",
    "The union function is instead more efficient. \n",
    "To combine two subsets, we find their root nodes. \n",
    "We select one of the subsets.\n",
    "Then we update the parent of the other supset in the root list with the root of the selected subset. \n",
    "\n"
   ]
  },
  {
   "cell_type": "code",
   "execution_count": 4,
   "metadata": {},
   "outputs": [
    {
     "name": "stdout",
     "output_type": "stream",
     "text": [
      "True\n",
      "True\n",
      "False\n",
      "True\n"
     ]
    }
   ],
   "source": [
    "# UnionFind class\n",
    "class UnionFind:\n",
    "    def __init__(self, size):\n",
    "        self.root = [i for i in range(size)]\n",
    "    def find(self, x):\n",
    "        while x != self.root[x]:\n",
    "            x = self.root[x]\n",
    "        return x\n",
    "\n",
    "    def union(self, x, y):\n",
    "        rootX = self.find(x)\n",
    "        rootY = self.find(y)\n",
    "        if rootX != rootY:\n",
    "            self.root[rootY] = rootX\n",
    "\n",
    "    def connected(self, x, y):\n",
    "        return self.find(x) == self.find(y)\n",
    "\n",
    "\n",
    "# Test Case\n",
    "uf = UnionFind(10)\n",
    "# 1-2-5-6-7 3-8-9 4\n",
    "uf.union(1, 2)\n",
    "uf.union(2, 5)\n",
    "uf.union(5, 6)\n",
    "uf.union(6, 7)\n",
    "uf.union(3, 8)\n",
    "uf.union(8, 9)\n",
    "print(uf.connected(1, 5))  # true\n",
    "print(uf.connected(5, 7))  # true\n",
    "print(uf.connected(4, 9))  # false\n",
    "# 1-2-5-6-7 3-8-9-4\n",
    "uf.union(9, 4)\n",
    "print(uf.connected(4, 9))  # true"
   ]
  },
  {
   "cell_type": "code",
   "execution_count": null,
   "metadata": {},
   "outputs": [],
   "source": []
  }
 ],
 "metadata": {
  "kernelspec": {
   "display_name": "Python 3",
   "language": "python",
   "name": "python3"
  },
  "language_info": {
   "codemirror_mode": {
    "name": "ipython",
    "version": 3
   },
   "file_extension": ".py",
   "mimetype": "text/x-python",
   "name": "python",
   "nbconvert_exporter": "python",
   "pygments_lexer": "ipython3",
   "version": "3.7.1"
  }
 },
 "nbformat": 4,
 "nbformat_minor": 2
}
