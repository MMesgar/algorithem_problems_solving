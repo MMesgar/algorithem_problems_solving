{
 "cells": [
  {
   "cell_type": "markdown",
   "metadata": {
    "id": "OJVxBaC2TaGx"
   },
   "source": [
    "# Introduction\n",
    "Recursion is a solution for problems that can be devided into small scopes. \n",
    "A recursion solution consists of three parts: (1) a base case, (2) a recursion on small scopes, and (3) recursion relations are the relationship between the result of a problem and the results of its subproblems. \n"
   ]
  },
  {
   "cell_type": "markdown",
   "metadata": {
    "id": "kjaKX4DTUqNO"
   },
   "source": [
    "\n",
    "\n",
    "---\n",
    "\n",
    "# Problem: Reverse String\n",
    "\n",
    "Write a function that reverses a string. The input string is given as an array of characters s. You must do this by modifying the input array in-place with O(1) extra memory.\n",
    "\n",
    "```python\n",
    "Input: s = [\"h\",\"e\",\"l\",\"l\",\"o\"]\n",
    "Output: [\"o\",\"l\",\"l\",\"e\",\"h\"]\n",
    "```\n",
    "\n"
   ]
  },
  {
   "cell_type": "code",
   "execution_count": 2,
   "metadata": {
    "id": "omtrKyFgSYCI"
   },
   "outputs": [],
   "source": [
    "from typing import List\n",
    "class Solution:\n",
    "    def reverseString(self, s: List[str]) -> None:\n",
    "        \"\"\"\n",
    "        Do not return anything, modify s in-place instead.\n",
    "        \"\"\"\n",
    "        #a b c d\n",
    "        # d c b a\n",
    "        n = len(s)\n",
    "        left = 0\n",
    "        right = n-1\n",
    "        self.helper(s, left, right)\n",
    "\n",
    "    def helper(self, arr, left, right):\n",
    "        if left < right:\n",
    "            arr[left], arr[right] = arr[right], arr[left]\n",
    "            self.helper(arr, left +1, right - 1)"
   ]
  },
  {
   "cell_type": "markdown",
   "metadata": {
    "id": "GZj2AEGpWSPx"
   },
   "source": [
    "\n",
    "\n",
    "---\n",
    "\n",
    "# Problem: Reverse Linked List\n",
    "\n",
    "Given the head of a singly linked list, reverse the list, and return the reversed list. \n",
    "\n",
    "\n",
    "```python\n",
    "Input: head = [1,2,3,4,5]\n",
    "Output: [5,4,3,2,1]\n",
    "```\n"
   ]
  },
  {
   "cell_type": "code",
   "execution_count": null,
   "metadata": {
    "id": "LTFIODGUW6LA"
   },
   "outputs": [],
   "source": [
    "# Definition for singly-linked list.\n",
    "class ListNode:\n",
    "    def __init__(self, val=0, next=None):\n",
    "        self.val = val\n",
    "        self.next = next\n",
    "class Solution:\n",
    "    def reverseList(self, head: [ListNode]) -> [ListNode]:\n",
    "        # base case\n",
    "        if head is None or head.next is None:\n",
    "            return head\n",
    "        # breack down the problem\n",
    "        first = head\n",
    "        second = head.next\n",
    "        rest = head.next.next\n",
    "        second.next = first\n",
    "        first.next = None\n",
    "        head = second\n",
    "        if rest is not None:\n",
    "            rest = self.reverseList(rest)\n",
    "            # recusion relation\n",
    "            tail = rest\n",
    "            while tail.next:\n",
    "                tail = tail.next\n",
    "            tail.next = head\n",
    "            head = rest\n",
    "        return head"
   ]
  },
  {
   "cell_type": "markdown",
   "metadata": {
    "id": "u-qNIABSYp0u"
   },
   "source": [
    "\n",
    "\n",
    "---\n",
    "\n",
    "# Problem: Search in a Binary Search Tree\n",
    "\n",
    "You are given the root of a binary search tree (BST) and an integer value.\n",
    "Find the node in the BST that the node's value equals value and return the subtree rooted with that node. If such a node does not exist, return null.\n",
    "\n",
    "```python\n",
    "Input: root = [4,2,7,1,3], val = 2\n",
    "Output: [2,1,3]\n",
    "```\n",
    "\n",
    "The number of nodes in the tree is in the range [1, 5000].\n",
    "1 <= Node.val <= 107\n",
    "root is a binary search tree.\n",
    "1 <= val <= 10\n",
    "\n",
    "\n"
   ]
  },
  {
   "cell_type": "code",
   "execution_count": null,
   "metadata": {
    "id": "emkj1fKBZFWm"
   },
   "outputs": [],
   "source": [
    "# Definition for a binary tree node.\n",
    "from typing import Optional\n",
    "class TreeNode:\n",
    "    def __init__(self, val=0, left=None, right=None):\n",
    "        self.val = val\n",
    "        self.left = left\n",
    "        self.right = right\n",
    "class Solution:\n",
    "    def searchBST(self, root: Optional[TreeNode], val: int) -> Optional[TreeNode]:\n",
    "        # base case\n",
    "        if root is None:\n",
    "            return None\n",
    "        if root.val == val:\n",
    "            return root\n",
    "        # break down to sub problems & recursive relation is to return\n",
    "        if val < root.val:\n",
    "            return self.searchBST(root.left, val)\n",
    "        if val > root.val:\n",
    "            return self.searchBST(root.right, val)\n",
    "        return None"
   ]
  },
  {
   "cell_type": "markdown",
   "metadata": {
    "id": "dQ3raItpbHv_"
   },
   "source": [
    "\n",
    "\n",
    "---\n",
    "# Problem: Pascal's Triangle II\n",
    "Given an integer rowIndex, return the rowIndexth (0-indexed) row of the Pascal's triangle.\n",
    "\n",
    "In Pascal's triangle, each number is the sum of the two numbers directly above it.\n",
    "\n",
    "Constraints:\n",
    "\n",
    "$0 <= rowIndex <= 33$\n",
    " \n",
    "\n",
    "Follow up: Could you optimize your algorithm to use only O(rowIndex) extra space?\n",
    "\n",
    "```python\n",
    "Input: rowIndex = 3\n",
    "Output: [1,3,3,1]\n",
    "```\n",
    "\n",
    "\n",
    "\n",
    "\n"
   ]
  },
  {
   "cell_type": "code",
   "execution_count": 3,
   "metadata": {
    "id": "F34ZuozYkyHS"
   },
   "outputs": [],
   "source": [
    "# recursive \n",
    "from typing import List\n",
    "class Solution:\n",
    "  def getRow(self, rowIndex:int) -> List[int]:\n",
    "    '''\n",
    "      0  1 \n",
    "      1  1  1\n",
    "      2  1  2  1\n",
    "      3  1  3  3  1\n",
    "      4  1  4  6  4  1\n",
    "      5  1  5 10  10 5 1\n",
    "        \n",
    "      f(i,j) = f(i-1,j-1) + f(i-1,j)\n",
    "      '''\n",
    "    def f(i,j):\n",
    "      if i ==0 or j==0 or i==j:\n",
    "        return 1\n",
    "      return f(i-1,j-1) + f(i-1,j)\n",
    "\n",
    "    output = []\n",
    "    for c in range(rowIndex):\n",
    "      output.append(f(rowIndex, c))\n",
    "    return output"
   ]
  },
  {
   "cell_type": "code",
   "execution_count": null,
   "metadata": {
    "id": "iYF0ltUwbmN-"
   },
   "outputs": [],
   "source": [
    "# Dynamic Programming\n",
    "from typing import List\n",
    "class Solution:\n",
    "    def getRow(self, rowIndex: int) -> List[int]:\n",
    "        '''\n",
    "      0  1 \n",
    "      1  1  1\n",
    "      2  1  2  1\n",
    "      3  1  3  3  1\n",
    "      4  1  4  6  4  1\n",
    "      5  1  5 10  10 5 1\n",
    "        \n",
    "        matrix(i,j) = matrix(i-1,j-1) + matrix(i-1,j)\n",
    "        '''\n",
    "        output = []\n",
    "        matrix = [[1]*i for i in range(1,rowIndex+2)]\n",
    "        for i in range(rowIndex+1):\n",
    "            for j in range(i):\n",
    "                if i!=0 and j!=0 and i!=j:\n",
    "                    matrix[i][j] = matrix[i-1][j-1] + matrix[i-1][j]\n",
    "        return matrix[rowIndex]"
   ]
  },
  {
   "cell_type": "code",
   "execution_count": null,
   "metadata": {
    "id": "lljZOm4Zagf-"
   },
   "outputs": [],
   "source": [
    "# Memory efficient dynamic programming: save only the last row in the matrix\n",
    "from typing import List\n",
    "class Solution:\n",
    "    def getRow(self, rowIndex: int) -> List[int]:\n",
    "        '''\n",
    "      0  1 \n",
    "      1  1  1\n",
    "      2  1  2  1\n",
    "      3  1  3  3  1\n",
    "      4  1  4  6  4  1\n",
    "      5  1  5 10  10 5 1\n",
    "        \n",
    "        output(j) = old_output(j-1) + old_output(j)\n",
    "        '''\n",
    "        old_output = [1,1]\n",
    "        for i in range(rowIndex+1):\n",
    "            output = []\n",
    "            for j in range(i):\n",
    "                if j==0:\n",
    "                    output.append(1)\n",
    "                else:\n",
    "                    output.append(old_output[j-1] + old_output[j])\n",
    "            output.append(1)\n",
    "            old_output = output[:]\n",
    "        \n",
    "        return output"
   ]
  },
  {
   "cell_type": "markdown",
   "metadata": {
    "id": "p6i25eg6rveC"
   },
   "source": [
    "# Memorization Technique\n",
    "ecursion is often an intuitive and powerful way to implement an algorithm. However, it might bring some undesired penalty to the performance, e.g. duplicate calculations, if we do not use it wisely. For instance, at the end of the previous chapter, we have encountered the duplicate calculations problem in Pascal's Triangle, where some intermediate results are calculated multiple times.\n",
    "\n",
    "In this article we will look closer into the duplicate calculations problem that could happen with recursion. We will then propose a common technique called memoization that can be used to avoid this problem. \n",
    "\n",
    "\n",
    "To eliminate the duplicate calculation in the above case, as many of you would have figured out, one of the ideas would be to store the intermediate results in the cache so that we could reuse them later without re-calculation.\n",
    "\n",
    "This idea is also known as memoization, which is a technique that is frequently used together with recursion. The memoization technique is a good example that demonstrates how one can reduce compute time in exchange for some additional space.\n",
    "\n",
    "The hash table serves as a cache that saves us from duplicate calculations. \n",
    "\n",
    "\n",
    "\n"
   ]
  },
  {
   "cell_type": "markdown",
   "metadata": {
    "id": "KtWG75Sjw8dK"
   },
   "source": [
    "\n",
    "\n",
    "---\n",
    "\n",
    "# Problem:  Fibonacci Number\n",
    "The Fibonacci numbers, commonly denoted $F(n)$ form a sequence, called the Fibonacci sequence, such that each number is the sum of the two preceding ones, starting from 0 and 1. That is,\n",
    "```python\n",
    "F(n) = F(n - 1) + F(n - 2)\n",
    "\n",
    "F(0) = 0, F(1) = 1\n",
    "```\n",
    "Given n, calculate F(n).\n",
    "\n",
    "Constraints:\n",
    "\n",
    "$0 <= n <= 30$\n",
    "\n"
   ]
  },
  {
   "cell_type": "code",
   "execution_count": null,
   "metadata": {
    "id": "SWaKffTCwrZY"
   },
   "outputs": [],
   "source": [
    "def fibonacci(n):\n",
    "    \"\"\"\n",
    "    :type n: int\n",
    "    :rtype: int\n",
    "    \"\"\"\n",
    "    if n < 2:\n",
    "        return n\n",
    "    else:\n",
    "        return fibonacci(n-1) + fibonacci(n-2)"
   ]
  },
  {
   "cell_type": "markdown",
   "metadata": {
    "id": "-LtyBsq9xJ-l"
   },
   "source": [
    "Let's use a cache to perform memorization:"
   ]
  },
  {
   "cell_type": "code",
   "execution_count": null,
   "metadata": {
    "id": "myCxJk3ew65i"
   },
   "outputs": [],
   "source": [
    "def fib(self, N):\n",
    "    \"\"\"\n",
    "    :type N: int\n",
    "    :rtype: int\n",
    "    \"\"\"\n",
    "    cache = {}\n",
    "    def recur_fib(N):\n",
    "        if N in cache:\n",
    "            return cache[N]\n",
    "\n",
    "        if N < 2:\n",
    "            result = N\n",
    "        else:\n",
    "            result = recur_fib(N-1) + recur_fib(N-2)\n",
    "\n",
    "        # put result in cache for later reference.\n",
    "        cache[N] = result\n",
    "        return result\n",
    "\n",
    "    return recur_fib(N)"
   ]
  },
  {
   "cell_type": "markdown",
   "metadata": {
    "id": "UNVlp4Nch0kb"
   },
   "source": [
    "---\n",
    "# Problem: Climing Stairs\n",
    "You are climbing a staircase. It takes $n$ steps to reach the top.\n",
    "Each time you can either climb $1$ or $2$ steps. In how many distinct ways can you climb to the top?\n",
    "\n",
    "```python\n",
    "Input: n = 2\n",
    "Output: 2\n",
    "Explanation: There are two ways to climb to the top.\n",
    "1. 1 step + 1 step\n",
    "2. 2 steps\n",
    "```\n",
    "\n",
    "Constraints:\n",
    "\n",
    "$1 <= n <= 45$\n",
    "\n",
    "\n"
   ]
  },
  {
   "cell_type": "code",
   "execution_count": 1,
   "metadata": {
    "id": "H5lLWF2vxJHO"
   },
   "outputs": [],
   "source": [
    "class Solution:\n",
    "    def climbStairs(self, n: int) -> int:\n",
    "        cache = {}\n",
    "        def helper(n):\n",
    "            if n in cache:\n",
    "                return cache[n]\n",
    "            if n ==1:\n",
    "                output = 1\n",
    "            elif n==2:\n",
    "                output = 2\n",
    "            else:\n",
    "                output=helper(n-1) + helper(n-2)\n",
    "            cache[n]=output\n",
    "            return output\n",
    "        return helper(n)"
   ]
  },
  {
   "cell_type": "markdown",
   "metadata": {
    "id": "ng91wlW_omrC"
   },
   "source": [
    "\n",
    "\n",
    "---\n",
    "# Time Complexity\n",
    "Given a recursion algorithm, its time complexity \n",
    "$O(T)$ is typically the product of the number of recursion invocations (R) and the time complexity of calculation ($O(S)$) that incurs along with each recursion call: \n",
    "$O(T) = R * O(S)$. \n",
    "\n",
    "\n",
    "For recursive functions, it is rarely the case that the number of recursion calls happens to be linear to the size of input. For example, one might recall the example of Fibonacci number as a such recursion. In this case, it is better resort to the execution tree, which is a tree that is used to denote the execution flow of a recursive function in particular. Each node in the tree represents an invocation of the recursive function. Therefore, the total number of nodes in the tree corresponds to the number of recursion calls during the execution.\n",
    "In a full binary tree with n levels, the total number of nodes would be \n",
    "$2^n-1$. \n",
    "So the Fibonacci order is $O(2^n)$.\n",
    "\n",
    "\n",
    "Memoization is often applied to optimize the time complexity of recursion algorithms. By caching and reusing the intermediate results, memoization can greatly reduce the number of recursion calls, i.e. reducing the number of branches in the execution tree.\n",
    "The time complexity of the Fibonacci algorithm with memorization is $O(n)= n*O(1)$.\n",
    "\n"
   ]
  },
  {
   "cell_type": "markdown",
   "metadata": {
    "id": "EDjbPGsWqiJF"
   },
   "source": []
  },
  {
   "cell_type": "markdown",
   "metadata": {
    "id": "16f3oE_lqiPX"
   },
   "source": [
    "\n",
    "\n",
    "---\n",
    "# Space Complexity\n",
    "There are mainly two parts of the space consumption that one should bear in mind when calculating the space complexity of a recursive algorithm: recursion related and non-recursion related space.\n",
    "\n",
    "The recursion related space refers to the memory cost that is incurred directly by the recursion, i.e. the stack to keep track of recursive function calls.\n",
    "The stack holds three important pieces of information:\n",
    "\n",
    "- The returning address of the function call. Once the function call is completed, the program must know where to return to, i.e. the line of code after the function call.\n",
    "- The parameters that are passed to the function call. \n",
    "- The local variables within the function call.\n",
    "\n",
    "This space in the stack is the minimal cost that is incurred during a function call. However, once the function call is done, this space is freed. \n",
    "\n",
    "For recursive algorithms, the function calls chain up successively until they reach a base case (a.k.a. bottom case). This implies that the space that is used for each function call is accumulated.\n",
    "\n",
    "\n",
    "**For a recursive algorithm, if there is no other memory consumption, then this recursion incurred space will be the space upper-bound of the algorithm.**\n",
    "\n",
    "\n",
    "It is due to recursion-related space consumption that sometimes one might run into a situation called stack overflow, where the stack allocated for a program reaches its maximum space limit and the program crashes. Therefore, when designing a recursive algorithm, one should carefully check if there is a possibility of stack overflow when the input scales up. \n",
    "**Tail recursion** is exempted from this space overhead.\n",
    "It is a recursion where the recursive call is the final instruction in the recursion function. And there should be only one recursive call in the function.\n",
    "\n",
    "\n",
    "\n",
    "\n",
    "The non-recursion related space refers to the memory space that is not directly related to recursion, which typically includes the space (normally in heap) that is allocated for the global variables.\n",
    "Recursion or not, you might need to store the input of the problem as global variables, before any subsequent function calls. And you might need to save the intermediate results from the recursive calls as well. The latter is also known as memoization. \n",
    "\n",
    "```python\n",
    "def sum_non_tail_recursion(ls):\n",
    "    \"\"\"\n",
    "    :type ls: List[int]\n",
    "    :rtype: int, the sum of the input list.\n",
    "    \"\"\"\n",
    "    if len(ls) == 0:\n",
    "        return 0\n",
    "    \n",
    "    # not a tail recursion because it does some computation after the recursive call returned.\n",
    "    return ls[0] + sum_non_tail_recursion(ls[1:])\n",
    "\n",
    "\n",
    "def sum_tail_recursion(ls):\n",
    "    \"\"\"\n",
    "    :type ls: List[int]\n",
    "    :rtype: int, the sum of the input list.\n",
    "    \"\"\"\n",
    "    def helper(ls, acc):\n",
    "        if len(ls) == 0:\n",
    "            return acc\n",
    "        # this is a tail recursion because the final instruction is a recursive call.\n",
    "        return helper(ls[1:], ls[0] + acc)\n",
    "    \n",
    "    return helper(ls, 0)\n",
    "\n",
    "```\n",
    "\n",
    "\n"
   ]
  },
  {
   "cell_type": "markdown",
   "metadata": {
    "id": "q-soSb84YZZz"
   },
   "source": [
    "\n",
    "\n",
    "---\n",
    "\n",
    "# Problem: Maximum Depth of Binary Tree\n",
    "Given the root of a binary tree, return its maximum depth.\n",
    "\n",
    "A binary tree's maximum depth is the number of nodes along the longest path from the root node down to the farthest leaf node.\n",
    "\n",
    "```python\n",
    "Input: root = [3,9,20,null,null,15,7]\n",
    "Output: 3\n",
    "\n",
    "\n",
    "Input: root = [1,null,2]\n",
    "Output: 2\n",
    "\n",
    "```\n",
    "\n",
    "Constraints:\n",
    "\n",
    "The number of nodes in the tree is in the range $[0, 10^4]$.\n",
    "$-100 <= Node.val <= 100$\n"
   ]
  },
  {
   "cell_type": "code",
   "execution_count": 4,
   "metadata": {
    "id": "AuikKa7lkIYI"
   },
   "outputs": [],
   "source": [
    "from typing import Optional\n",
    "# Definition for a binary tree node.\n",
    "class TreeNode:\n",
    "    def __init__(self, val=0, left=None, right=None):\n",
    "        self.val = val\n",
    "        self.left = left\n",
    "        self.right = right\n",
    "class Solution:\n",
    "    def maxDepth(self, root: Optional[TreeNode]) -> int:\n",
    "        if root is None:\n",
    "            return 0\n",
    "        if root.left is None and root.right is None:\n",
    "            return 1\n",
    "        left_height = self.maxDepth(root.left) \n",
    "        right_height = self.maxDepth(root.right)\n",
    "        return 1 + max([left_height,right_height])"
   ]
  },
  {
   "cell_type": "markdown",
   "metadata": {
    "id": "od_pn4ulbT2z"
   },
   "source": [
    "\n",
    "\n",
    "---\n",
    "\n",
    "# Problem: Pow(x, n)\n",
    "Implement pow(x, n), which calculates $x$ raised to the power $n$ (i.e., $x^n$).\n",
    "\n",
    "\n",
    "```python\n",
    "\n",
    "Input: x = 2.00000, n = 10\n",
    "Output: 1024.00000\n",
    "\n",
    "Input: x = 2.10000, n = 3\n",
    "Output: 9.26100\n",
    "\n",
    "Input: x = 2.00000, n = -2\n",
    "Output: 0.25000\n",
    "Explanation: 2-2 = 1/22 = 1/4 = 0.25\n",
    "```\n",
    "\n",
    "Constraints:\n",
    "\n",
    "- $-100.0 < x < 100.0$\n",
    "- $-2^31 <= n <= 23^1-1$\n",
    "- $-10^4 <= xn <= 10^4$\n"
   ]
  },
  {
   "cell_type": "code",
   "execution_count": 5,
   "metadata": {
    "id": "UVeN5VMJaMxy"
   },
   "outputs": [],
   "source": [
    "class Solution:\n",
    "    def myPow(self, x: float, n: int) -> float:\n",
    "        if x==0 and n==0:\n",
    "            return None\n",
    "        if x==0:\n",
    "            return 0\n",
    "        cache = {}\n",
    "        def helper(x, n):       \n",
    "            if n in cache:\n",
    "                return cache[n]\n",
    "            if n==0: \n",
    "                cache[0]=1\n",
    "            if n==1:\n",
    "                cache[1]=x\n",
    "            if n>0:\n",
    "                if n%2 ==0:\n",
    "                    cache[n] =  helper(x, n/2) * helper(x, n/2)\n",
    "                else:\n",
    "                    cache[n] =  x* helper(x, (n-1)/2) * helper(x, (n-1)/2)\n",
    "            if n<0:\n",
    "                cache[n] = 1.0 / helper(x, -n)\n",
    "            return cache[n]\n",
    "        return helper(x, n)"
   ]
  },
  {
   "cell_type": "markdown",
   "metadata": {
    "id": "KVuMM-Dnjn3y"
   },
   "source": [
    "\n",
    "\n",
    "---\n",
    "Tips:\n",
    "- Not every problem can be solved with recursion, due to the time or space constraints. And recursion itself might come with some undesired side effects such as stack overflow. \n",
    "\n",
    "- When in doubt, write down the recurrence relationship.\n",
    "\n",
    "-  It is always helpful to deduct some relationships with the help of mathematical formulas, since the recurrence nature in recursion is quite close to the mathematics that we are familiar with. Often, they can clarify the ideas and uncover the hidden recurrence relationship.\n",
    "\n",
    "- Whenever possible, apply memoization.\n",
    "\n",
    "- When stack overflows, tail recursion might come to help. \n",
    "\n",
    "- There are often several ways to implement an algorithm with recursion. Tail recursion is a specific form of recursion that we could implement. Different from the memoization technique, tail recursion could optimize the space complexity of the algorithm, by eliminating the stack overhead incurred by recursion. More importantly, with tail recursion, one could avoid the problem of stack overflow that comes often with recursion. Another advantage about tail recursion is that often times it is easier to read and understand, compared to non-tail-recursion. \n",
    "\n",
    "\n"
   ]
  },
  {
   "cell_type": "code",
   "execution_count": null,
   "metadata": {
    "id": "E8nB8k4wjCLC"
   },
   "outputs": [],
   "source": []
  }
 ],
 "metadata": {
  "colab": {
   "authorship_tag": "ABX9TyM9l7g/l9rKPqV2h52Ur4GI",
   "collapsed_sections": [],
   "name": "recursion.ipynb",
   "provenance": []
  },
  "kernelspec": {
   "display_name": "Python 3",
   "language": "python",
   "name": "python3"
  },
  "language_info": {
   "codemirror_mode": {
    "name": "ipython",
    "version": 3
   },
   "file_extension": ".py",
   "mimetype": "text/x-python",
   "name": "python",
   "nbconvert_exporter": "python",
   "pygments_lexer": "ipython3",
   "version": "3.7.1"
  }
 },
 "nbformat": 4,
 "nbformat_minor": 1
}
