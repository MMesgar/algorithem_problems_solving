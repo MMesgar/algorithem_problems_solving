{
 "cells": [
  {
   "cell_type": "markdown",
   "metadata": {},
   "source": [
    "# Basics of imortant algorithms"
   ]
  },
  {
   "cell_type": "markdown",
   "metadata": {},
   "source": [
    "## Find a data structure:\n",
    "You should think of a data structure to represent the information given in a problem to computers. \n",
    "\n",
    "Some hints about important datasets: "
   ]
  },
  {
   "cell_type": "markdown",
   "metadata": {},
   "source": [
    "- [**Hash Map**]()\n",
    "\n",
    "    - \n",
    "\n",
    "- [**Graph**]() and [**Tree**]()\n",
    "    - in graph problems, always ask if there are multiple edges between two nodes.\n",
    "\n",
    "- [**Stack**]() and [**Queue**]()\n",
    "    - \n",
    "\n",
    "- [**Array**]() and [**LinkedList**]()\n",
    "    -\n",
    "\n",
    "\n",
    "    "
   ]
  },
  {
   "cell_type": "markdown",
   "metadata": {},
   "source": [
    "## Find an Algorithm: \n",
    "Important algorithms are:"
   ]
  },
  {
   "cell_type": "markdown",
   "metadata": {},
   "source": [
    "### DFS\n",
    "\n",
    "(1) store the graph in a hash table (adjacency list) to easily access the neigbours of a node\n",
    "\n",
    "(2) go into the depth -> use  stack -> which is a list and pop the last item .pop(-1)\n",
    "\n",
    "(3) avoid visiting already founded goals (nodes or paths) nodes using a visited hash map or coloring the nodes\n",
    "\n",
    "(4) time and space complexity = O(V+E)\n"
   ]
  },
  {
   "cell_type": "markdown",
   "metadata": {},
   "source": [
    "**Applications:**\n",
    "    \n",
    "    - Processing all nodes in a graph;\n",
    "    \n",
    "    - Traversing all paths between any two specific given nodes in a graph.\n",
    "        - Fill the stack with the paths we have traversed so far.\n",
    "        - Avoid visiting nodes in the path that is exploring. To do so, simply check if the neighbour is part of the path poped from the stack or not. Thus, we don't need visited set for this use case.\n",
    "    \n",
    "    - Finding the shortest path between two nodes in a graph \n",
    "        - If we find all paths between two nodes using DFS\n",
    "        - then find the shortest path between two nodes in a graph.\n",
    "        \n",
    "    - Finding if a path exists in graph (Are two nodes connected in agraph)\n",
    "        - if the node poped from the stack is destination, you found a path\n",
    "    \n",
    "    - Find **all possible** paths between two specific given nodes in a graph \n",
    "        - stack should store the paths have been explored\n",
    "        - output keep track of paths\n",
    "        - another solution to this problem should be backtracking\n",
    "        \n",
    "    - Cloning a graph (returning the deep copy of a graph):\n",
    "        - use the recurion implementation of DFS\n",
    "        - fill the visited with the node in the cloned graph, instead of true and false ``visited[node] = node_clone``\n",
    "    \n",
    "    - Finding itinerary (given a set of tickets between city names, find the itenary that uses all tickets):\n",
    "        - This problem is mainly backtracking, which means you should use recusrsive implementaiton of DFS\n",
    "        - remember to set the visited == False when you get back from the recursion\n",
    "        \n",
    "    - Topological sorting\n",
    "        - recusrion implementation of dfs\n",
    "        - since there is no start_node, you should have a loop in the main function to start from any node\n",
    "        - In DFS, we start from a vertex, we first print it and then recursively call DFS for its adjacent vertices. \n",
    "        - In topological sorting, we use a temporary stack. \n",
    "        - We don’t print the vertex immediately, we first recursively call topological sorting for all its adjacent vertices, then push it to a stack. Note that a vertex is pushed to stack only when all of its adjacent vertices (and their adjacent vertices and so on) are already in the stack. \n",
    "        - Finally, print contents of the stack. \n",
    "        - \n",
    "    \n",
    "    - To test if the graph is bipartite\n",
    "        - use graph coloring, which means visited dictionary gets -1, 0, 1 where -1 shows not visited, 0 means first group of nodes and +1 shows the second group of node.\n",
    "        - You should color the node with color = 1 - color. \n",
    "        - If you visit a node with the same color, stop it. \n",
    "    \n",
    "    - For detecting cycles in a graph\n",
    "        - **undirected graph** => if you reach a node whose visited value is true --> you found a cycle in the graph\n",
    "        - **directed graph** => visited dictionary should get colors instead of True and False. These colors are white, gray, and black. While mean the node has not been yet explored. Gray means the node is in process. Black means we have finished processing the node. If you visit a node in with a gray color => you found a cycle. \n",
    "        \n",
    "\n",
    "\n"
   ]
  },
  {
   "cell_type": "markdown",
   "metadata": {},
   "source": [
    "**Notes learned from prolems:**\n",
    "    \n",
    "- Input graph might be disconnected. If so, DFS does not traverse all nodes. You should ask the interviewer about this. To solve this problem, you can add a loop to start dfs from any node in the graph that has not visited yet. \n",
    "\n",
    "- "
   ]
  },
  {
   "cell_type": "markdown",
   "metadata": {},
   "source": [
    "\n",
    "**Two implementations:** \n",
    "    * Iterative \n",
    "    * Recursion\n",
    "\n"
   ]
  },
  {
   "cell_type": "code",
   "execution_count": 19,
   "metadata": {},
   "outputs": [
    {
     "data": {
      "text/plain": [
       "['5', '3', '2', '4', '8', '7']"
      ]
     },
     "execution_count": 19,
     "metadata": {},
     "output_type": "execute_result"
    }
   ],
   "source": [
    "# DFS via Recursion with a risk of recursion limit if the graph is huge\n",
    "\n",
    "class Solution():\n",
    "    \n",
    "    def traverse(self, graph, start_node):\n",
    "        \n",
    "        self.graph = graph\n",
    "    \n",
    "        self.visited = {u:False for u in graph.keys() } # Set to keep track of visited nodes of graph.\n",
    "\n",
    "        solution = []\n",
    "        \n",
    "        self.dfs('5', solution)\n",
    "        \n",
    "        return solution\n",
    "\n",
    "    \n",
    "    def dfs(self, node, solution):  #function for dfs from start_node, \n",
    "\n",
    "        if self.visited[node]:\n",
    "\n",
    "            return None\n",
    "        \n",
    "        #Process the node, e.g. print it.\n",
    "        solution.append(node) \n",
    "        \n",
    "        # mark it as visited\n",
    "        self.visited[node] = True\n",
    "        \n",
    "        # recurse over its childern\n",
    "        for neighbour in sorted(graph[node]):\n",
    "\n",
    "            self.dfs(neighbour, solution)\n",
    "\n",
    "# Driving code\n",
    "graph = {\n",
    "              '5' : ['3','7'],\n",
    "              '3' : ['2', '4'],\n",
    "              '7' : ['8'],\n",
    "              '2' : [],\n",
    "              '4' : ['8'],\n",
    "              '8' : []\n",
    "        }\n",
    "\n",
    "sl = Solution()\n",
    "sl.traverse(graph, '5')"
   ]
  },
  {
   "cell_type": "code",
   "execution_count": 24,
   "metadata": {},
   "outputs": [
    {
     "data": {
      "text/plain": [
       "['5', '3', '2', '4', '8', '7']"
      ]
     },
     "execution_count": 24,
     "metadata": {},
     "output_type": "execute_result"
    }
   ],
   "source": [
    "# DFS via iteration without any ris (maybe more memory consumption)\n",
    "\n",
    "class Solution():\n",
    "    \n",
    "    def traverse(self, graph, start_node):\n",
    "        \n",
    "        self.graph = graph\n",
    "    \n",
    "        self.visited = {u:False for u in graph.keys() } # Set to keep track of visited nodes of graph.\n",
    "\n",
    "        solution = []\n",
    "        \n",
    "        self.dfs('5', solution)\n",
    "        \n",
    "        return solution\n",
    "\n",
    "    \n",
    "    def dfs(self, node, solution):  #function for dfs from node, \n",
    "\n",
    "        stack = [node]\n",
    "        \n",
    "        self.visited[node] = True\n",
    "        \n",
    "        while stack:\n",
    "            \n",
    "            node = stack.pop(-1)\n",
    "            \n",
    "            solution.append(node)\n",
    "           \n",
    "            for neighbour in sorted(graph[node], reverse=True): # reverse is not nessary. Since we use stack we process the item LIFO\n",
    "               \n",
    "                if self.visited[neighbour]==False:\n",
    "                    \n",
    "                    stack.append(neighbour)\n",
    "                    \n",
    "                    self.visited[neighbour] = True\n",
    "                    \n",
    "\n",
    "            \n",
    "        \n",
    "# Driving code\n",
    "graph = {\n",
    "              '5' : ['3','7'],\n",
    "              '3' : ['2', '4'],\n",
    "              '7' : ['8'],\n",
    "              '2' : [],\n",
    "              '4' : ['8'],\n",
    "              '8' : []\n",
    "        }\n",
    "\n",
    "sl = Solution()\n",
    "sl.traverse(graph, '5')"
   ]
  },
  {
   "cell_type": "markdown",
   "metadata": {},
   "source": [
    "### BFS\n",
    "\n",
    "- BFS can be improved by A*\n",
    "\n",
    "- BFS can be used to find the shortest path, if you are asked for all paths then you should use DFS. \n",
    "\n",
    "- two implementaiton approaches: iterative and recursive "
   ]
  },
  {
   "cell_type": "code",
   "execution_count": 27,
   "metadata": {},
   "outputs": [],
   "source": [
    "# Perform BFS recursively on the graph\n",
    "\n",
    "class Solution():\n",
    "    \n",
    "    def traverse(self, graph, start_node):\n",
    "        \n",
    "        self.graph = graph\n",
    "    \n",
    "        self.visited = {u:False for u in graph.keys() } # Set to keep track of visited nodes of graph.\n",
    "\n",
    "        solution = []\n",
    "        \n",
    "        self.bfs('5', solution)\n",
    "        \n",
    "        return solution\n",
    "    \n",
    "    def bfs(self, v, queue, solution):\n",
    "\n",
    "        if not queue:\n",
    "            return\n",
    "\n",
    "        # dequeue front node and print it\n",
    "        v = queue.pop(0)\n",
    "        solution.append(v)\n",
    "\n",
    "        # do for every edge (v, u)\n",
    "        for u in graph[v]:\n",
    "            if not visited[u]:\n",
    "                # mark it as discovered and enqueue it\n",
    "                visited[u] = True\n",
    "                q.append(u)\n",
    "\n",
    "        self.bfs(v, q, solution)\n",
    " "
   ]
  },
  {
   "cell_type": "code",
   "execution_count": 28,
   "metadata": {},
   "outputs": [],
   "source": [
    "# Perform BFS on the graph starting from vertex `v`\n",
    "def BFS(graph, v):\n",
    "    \n",
    "    # create a queue for doing BFS\n",
    "    q = [] # q = deque()\n",
    "    \n",
    "    visited = {item: False for item in graph}\n",
    " \n",
    "    # enqueue source vertex\n",
    "    q.append(v)\n",
    " \n",
    "    # mark the source vertex as visited\n",
    "    visited[v] = True\n",
    "    \n",
    "    # loop till queue is empty\n",
    "    while q:\n",
    " \n",
    "        # dequeue front node and print it\n",
    "        v= q.pop(0) # v = q.popleft()\n",
    "        \n",
    "        # process the node\n",
    "        print(v, end=' ')\n",
    " \n",
    "        # do for every edge (v, u)\n",
    "        for u in graph[v]:\n",
    "            if not visited[u]:\n",
    "                # mark it as visited and enqueue it\n",
    "                q.append(u)\n",
    "                visited[u] = True"
   ]
  },
  {
   "cell_type": "markdown",
   "metadata": {},
   "source": [
    "# Minimum Spanning Tree"
   ]
  },
  {
   "cell_type": "code",
   "execution_count": null,
   "metadata": {},
   "outputs": [],
   "source": []
  },
  {
   "cell_type": "markdown",
   "metadata": {},
   "source": [
    "### Find and Union (DisjointSet)"
   ]
  },
  {
   "cell_type": "code",
   "execution_count": null,
   "metadata": {},
   "outputs": [],
   "source": []
  }
 ],
 "metadata": {
  "kernelspec": {
   "display_name": "Python 3",
   "language": "python",
   "name": "python3"
  },
  "language_info": {
   "codemirror_mode": {
    "name": "ipython",
    "version": 3
   },
   "file_extension": ".py",
   "mimetype": "text/x-python",
   "name": "python",
   "nbconvert_exporter": "python",
   "pygments_lexer": "ipython3",
   "version": "3.7.1"
  }
 },
 "nbformat": 4,
 "nbformat_minor": 2
}
