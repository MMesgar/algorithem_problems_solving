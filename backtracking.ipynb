{
  "nbformat": 4,
  "nbformat_minor": 0,
  "metadata": {
    "colab": {
      "name": "backtracking.ipynb",
      "provenance": [],
      "authorship_tag": "ABX9TyPTAEgPDnSc3+MrHUrBXscM",
      "include_colab_link": true
    },
    "kernelspec": {
      "name": "python3",
      "display_name": "Python 3"
    },
    "language_info": {
      "name": "python"
    }
  },
  "cells": [
    {
      "cell_type": "markdown",
      "metadata": {
        "id": "view-in-github",
        "colab_type": "text"
      },
      "source": [
        "<a href=\"https://colab.research.google.com/github/MMesgar/algorithms_and_data_structures_fundamentals/blob/master/backtracking.ipynb\" target=\"_parent\"><img src=\"https://colab.research.google.com/assets/colab-badge.svg\" alt=\"Open In Colab\"/></a>"
      ]
    },
    {
      "cell_type": "markdown",
      "source": [
        "# Backtracking\n",
        "Backtracking is often implemented in the form of recursion.\n",
        "Backtracking is a general algorithm for finding all (or some) solutions to some computational problems (notably Constraint satisfaction problems or CSPs), which incrementally builds candidates to the solution and abandons a candidate (\"backtracks\") as soon as it determines that the candidate cannot lead to a valid solution. \n",
        "\n",
        " It is due to this backtracking behaviour, the backtracking algorithms are often much faster than the brute-force search algorithm, since it eliminates many unnecessary exploration. \n",
        "\n",
        "In the following, we present you a pseudocode template, which could help you to clarify the idea and structure the code when implementing the backtracking algorithms.\n",
        "\n",
        "```python\n",
        "def backtrack(candidate):\n",
        "    if find_solution(candidate):\n",
        "        output(candidate)\n",
        "        return\n",
        "    \n",
        "    # iterate all possible candidates.\n",
        "    for next_candidate in list_of_candidates:\n",
        "        if is_valid(next_candidate):\n",
        "            # try this partial candidate solution\n",
        "            place(next_candidate)\n",
        "            # given the candidate, explore further.\n",
        "            backtrack(next_candidate)\n",
        "            # backtrack\n",
        "            remove(next_candidate)\n",
        "```\n",
        "\n",
        "Here are a few notes about the above pseudocode.\n",
        "\n",
        "- Overall, the enumeration of candidates is done in two levels: \n",
        "  - at the first level, the function is implemented as recursion. At each occurrence of recursion, the function is one step further to the final solution.  \n",
        "  - as the second level, within the recursion, we have an iteration that allows us to explore all the candidates that are of the same progress to the final solution.\n",
        "\n",
        "- The backtracking should happen at the level of the iteration within the recursion. \n",
        "Unlike brute-force search, in backtracking algorithms we are often able to determine if a partial solution candidate is worth exploring further (i.e. is_valid(next_candidate)), which allows us to prune the search zones. \n",
        "This is also known as the constraint. \n",
        "\n",
        "- There are two symmetric functions that allow us to mark the decision (place(candidate)) and revert the decision (remove(candidate)).  \n",
        "\n",
        "\n"
      ],
      "metadata": {
        "id": "bhuV4GPGX7Gg"
      }
    },
    {
      "cell_type": "markdown",
      "source": [
        "\n",
        "\n",
        "---\n",
        "# Problem: Robot Room Cleaner\n",
        "Given a room that is represented as a grid of cells, where each cell contains a value that indicates whether it is an obstacle or not, we are asked to clean the room with a robot cleaner which can turn in four directions and move one step at a time.  \n",
        "\n",
        "## Solution:\n",
        "e give the general idea below on how one can apply the above pseudocode template to implement a backtracking algorithm.\n",
        "\n",
        "- [1] One can model each step of the robot as a recursive function (i.e. backtrack()).\n",
        "\n",
        "- [2] At each step, technically the robot would have four candidates of direction to explore, e.g. the robot located at the coordinate of (0, 0). Since not each direction is available though, one should check if the cell in the given direction is an obstacle or it has been cleaned before, i.e. is_valid(candidate). Another benefit of the check is that it would greatly reduce the number of possible paths that one needs to explore.\n",
        "\n",
        "- [3] Once the robot decides to explore the cell in certain direction, the robot should mark its decision (i.e. place(candidate)). More importantly, later the robot should be able to revert the previous decision (i.e. remove(candidate)), by going back to the cell and restore its original direction.\n",
        "\n",
        "- [4] The robot conducts the cleaning step by step, in the form of recursion of the backtrack() function. The backtracking would be triggered whenever the robot reaches a point that it is surrounded either by the obstacles (e.g. cell at the row 1 and the column -3) or the cleaned cells. At the end of the backtracking, the robot would get back to the its starting point, and each cell in the grid would be traversed at least once. As a result, the room is cleaned at the end."
      ],
      "metadata": {
        "id": "SpkfXvcbd5Mt"
      }
    },
    {
      "cell_type": "code",
      "source": [
        ""
      ],
      "metadata": {
        "id": "0daysZQ7rYxW"
      },
      "execution_count": null,
      "outputs": []
    },
    {
      "cell_type": "markdown",
      "source": [
        "\n",
        "\n",
        "---\n",
        "# Problem: Sudoku Solver\n",
        "\n",
        "Sudoku is a popular game that many of you are familiar with. The main idea of the game is to fill a grid with only the numbers from 1 to 9, while ensuring that each row and each column as well as each sub-grid of 9 elements does not contain duplicate numbers. \n",
        "The main idea of the game is to fill a grid with only the numbers from 1 to 9, while ensuring that each row and each column as well as each sub-grid of 9 elements does not contain duplicate numbers.\n",
        "\n",
        "## Solution:\n",
        "Hint on the solution of backtracking are given. These hints are the recursive nature of problem, a number of candidate solutions and some rules to filter out the candidates etc. \n",
        "So, we break down on how to apply the backtracking template to implement a sudoku solver in the following.\n",
        "\n",
        "-  Given a grid with some pre-filled numbers, the task is to fill the empty cells with the numbers that meet the **constraint** of Sudoku game. \n",
        "We could model the each step to fill an empty cell as a recursion function (i.e. our famous backtrack() function).\n",
        "\n",
        "-  At each step, technically we have 9 **candidates** at hand to fill the empty cell. \n",
        "Yet, we could filter out the candidates by **examining if they meet the rules of the Sudoku game, (i.e. is_valid(candidate))**.\n",
        "\n",
        "-  Then, **among all the suitable candidates**, we can try out one by one by filling the cell (i.e. place(candidate)). Later we can revert our decision (i.e. remove(candidate)), so that we could try out the other candidates.\n",
        "\n",
        "-  The solver would carry on one step after another, in the form of recursion by the backtrack function. **The backtracking would be triggered at the points where either the solver cannot find any suitable candidate (as shown in the above figure), or the solver finds a solution to the problem**. At the end of the backtracking, **we would enumerate all the possible solutions** to the Sudoku game. \n",
        "\n",
        "\n",
        "\n",
        "\n",
        "\n"
      ],
      "metadata": {
        "id": "LfnWoivmfAzS"
      }
    },
    {
      "cell_type": "markdown",
      "source": [
        "\n",
        "\n",
        "---\n",
        "# Problem: N-Queens II\n",
        "The n-queens puzzle is the problem of placing $n$ queens on an $n \n",
        "\\times n$ chessboard **such that no two queens attack each other**.\n",
        "Given an integer n, return the number of distinct solutions to the n-queens puzzle.\n",
        "\n",
        "```python\n",
        "Input: n = 4\n",
        "Output: 2\n",
        "Explanation: There are two distinct solutions to the 4-queens puzzle.\n",
        "```\n",
        "\n",
        "Constraints:\n",
        "\n",
        "$1 <= n <= 9$"
      ],
      "metadata": {
        "id": "QXU3o38zrb64"
      }
    },
    {
      "cell_type": "markdown",
      "source": [
        "## Solution:\n",
        "Backtracking is a paradiagm to solve this problem. The problem needs examination of different candidate actions (placing a queen on a cell in chessboard). Moreover, the problem expresses some constraints to filter out some candidates. Also, the problem is recursive. \n",
        "\n",
        "In any backtracking solution we need four methods: (1) is_solution(state), (2) is_valid(state), (3) place(state, item), and (4) backtrack(row, state). \n",
        "\n",
        "state shouls capture the current state of the solution in the search tree. \n",
        "The functoin is_solution returns True if the state meets all the constraints and it's solves the problem. \n",
        "The function is_valid returns True if the state just meets all the constraints. Note this functon does not perform any action. The function is_valid mainly estimates the validaity of an action. We should ignore doing an action on the state if the output state will not be valid. \n",
        "The function place updates the state by performing an action on the state. \n",
        "The backtrack functoin traverses the search space. It starts with an empty state and then goes through different possible ways to explore the state. \n",
        "For most problems, we have two dimensional state. The backtrack function performs recursions on rows and in each sub-call the functoin iterates over columns. \n"
      ],
      "metadata": {
        "id": "5Xje_yrGru4E"
      }
    },
    {
      "cell_type": "code",
      "source": [
        "class Solution:\n",
        "    def totalNQueens(self, n: int) -> int:\n",
        "        \n",
        "        def is_valid(state, place_new_queen):\n",
        "            new_queen_row = place_new_queen[0]\n",
        "            new_queen_col = place_new_queen[1]\n",
        "            \n",
        "            for queen_place in state:\n",
        "                queen_row = queen_place[0]\n",
        "                queen_col = queen_place[1]\n",
        "                \n",
        "                # check for same row\n",
        "                if queen_row == new_queen_row:\n",
        "                    return False\n",
        "                # check for same column\n",
        "                if queen_col == new_queen_col:\n",
        "                    return False\n",
        "                # same diag: row-col for elements on a diagonal is constant\n",
        "                if (queen_row - queen_col) == (new_queen_row - new_queen_col):\n",
        "                    return False\n",
        "                # same diag: row+col for elements on a reverse diagonal is constant\n",
        "                if (queen_row + queen_col) == (new_queen_row + new_queen_col):\n",
        "                    return False\n",
        "            return True\n",
        "        \n",
        "        def is_solution(state):\n",
        "            if len(state) == n:\n",
        "                return True\n",
        "            return False\n",
        "        \n",
        "        def place(state, new_queen):\n",
        "            state.append(new_queen)\n",
        "            return state\n",
        "        \n",
        "        solutions = []\n",
        "        def backtrack(row, state):\n",
        "            \n",
        "            # copy the state of the problem to perform backtrack\n",
        "            curr_state = state[:]\n",
        "            \n",
        "            # base case of recursion\n",
        "            if is_solution(state):\n",
        "                \n",
        "                solutions.append(state)\n",
        "            \n",
        "            # iterate over columns\n",
        "            for col in range(n):\n",
        "            \n",
        "                new_queen = (row, col)\n",
        "                \n",
        "                # ignore the actoin if it yeilds an invalid state\n",
        "                if not is_valid(state, new_queen):\n",
        "                    continue\n",
        "                # otherwise, update the state \n",
        "                state = place(state, new_queen)\n",
        "                \n",
        "                # call the function for the next row with the latest state\n",
        "                backtrack(row+1, state)\n",
        "                \n",
        "                # after backtrack, the state should be the same as we entered the sub-call of this function\n",
        "                state = curr_state[:]\n",
        "                \n",
        "                \n",
        "                \n",
        "        backtrack(row=0, state= [])\n",
        "        print(solutions)\n",
        "        return len(solutions)\n",
        "                "
      ],
      "metadata": {
        "id": "7se1YcKnd3AC"
      },
      "execution_count": 1,
      "outputs": []
    },
    {
      "cell_type": "markdown",
      "source": [
        "The above function finds all solutions and print then count them. \n",
        "The problem asks for the nunmber of of solutions. \n",
        "So we don't need to create all solutions. \n",
        "The next function counts only the number of solutions. "
      ],
      "metadata": {
        "id": "yiXizpvzckF9"
      }
    },
    {
      "cell_type": "code",
      "source": [
        "class Solution:\n",
        "    def totalNQueens(self, n: int) -> int:\n",
        "        \n",
        "        def is_valid(state, place_new_queen):\n",
        "            new_queen_row = place_new_queen[0]\n",
        "            new_queen_col = place_new_queen[1]\n",
        "            \n",
        "            for queen_place in state:\n",
        "                queen_row = queen_place[0]\n",
        "                queen_col = queen_place[1]\n",
        "                \n",
        "                # check for same row\n",
        "                if queen_row == new_queen_row:\n",
        "                    return False\n",
        "                # check for same column\n",
        "                if queen_col == new_queen_col:\n",
        "                    return False\n",
        "                # same diag: row-col for elements on a diagonal is constant\n",
        "                if (queen_row - queen_col) == (new_queen_row - new_queen_col):\n",
        "                    return False\n",
        "                # same diag: row+col for elements on a reverse diagonal is constant\n",
        "                if (queen_row + queen_col) == (new_queen_row + new_queen_col):\n",
        "                    return False\n",
        "            return True\n",
        "        \n",
        "        def is_solution(state):\n",
        "            if len(state) == n:\n",
        "                return True\n",
        "            return False\n",
        "        \n",
        "        def place(state, new_queen):\n",
        "            state.append(new_queen)\n",
        "            return state\n",
        "        \n",
        "        solutions = 0  \n",
        "        \n",
        "        def backtrack(row, state):\n",
        "            \n",
        "            curr_state = state[:]\n",
        "            \n",
        "            if is_solution(state):\n",
        "                \n",
        "                return 1\n",
        "            \n",
        "            solutions = 0\n",
        "            \n",
        "            for col in range(n):\n",
        "            \n",
        "                new_queen = (row, col)\n",
        "                \n",
        "                if not is_valid(state, new_queen):\n",
        "                    continue\n",
        "                \n",
        "                state = place(state, new_queen)\n",
        "                \n",
        "                solutions += backtrack(row+1, state)\n",
        "                \n",
        "                state = curr_state[:]\n",
        "            \n",
        "            return solutions"
      ],
      "metadata": {
        "id": "-3hfIxocPJZ5"
      },
      "execution_count": 2,
      "outputs": []
    },
    {
      "cell_type": "code",
      "source": [
        ""
      ],
      "metadata": {
        "id": "hYpN5DOXfLhX"
      },
      "execution_count": null,
      "outputs": []
    }
  ]
}