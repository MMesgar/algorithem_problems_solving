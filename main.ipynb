{
 "cells": [
  {
   "cell_type": "markdown",
   "metadata": {},
   "source": [
    "\n",
    "# Use The Right Algorithm\n"
   ]
  },
  {
   "cell_type": "markdown",
   "metadata": {},
   "source": [
    "Here, everything is order from first to last. It means we should try from up to down one by one."
   ]
  },
  {
   "cell_type": "markdown",
   "metadata": {},
   "source": [
    "# Algorithm Paradigms"
   ]
  },
  {
   "cell_type": "markdown",
   "metadata": {},
   "source": [
    "A short introduction about algorithms and how to decide which one matches the problems. What is needed to solve a problem in special paradigm?\n"
   ]
  },
  {
   "cell_type": "markdown",
   "metadata": {},
   "source": [
    "## DP / memorization"
   ]
  },
  {
   "cell_type": "markdown",
   "metadata": {},
   "source": [
    "- good for two types of problems: optimisations, recurrence\n",
    "\t\t- if you assume a smaller problem is solved, can you use its output to solve the last step.\n",
    "\t\t- you should define how you can use the solution of the smaller problem to solve the original problem. Do you need recursion?\n",
    "\t\t- you need to define a DP table\n",
    "\t\t- initialise the table\n",
    "\t\t- compute the table by a recursion formula\n",
    "\t\t- use parent matrix if you need to compute the path\n",
    "\t\t- you need to check the boundary conditions\n",
    "        - it is more efficient to only save the columns and rows of the matrix that participate in the recursion formula. This is more memory efficient:)"
   ]
  },
  {
   "cell_type": "markdown",
   "metadata": {},
   "source": [
    "## Divide and Conquer (recursion)"
   ]
  },
  {
   "cell_type": "markdown",
   "metadata": {},
   "source": [
    "\t\t- can we divide the problem to some exactly same problem? and we don’t need to solve subproblems multiple times. if we need solve it by DP.\n",
    "\t\t- we should find a way to combine the solution of these subproblems to find the answer of the bigger problem?\n",
    "\t\t- we should define some stoping condition \n",
    "        - you shouldn’t recompute a sub-problem"
   ]
  },
  {
   "cell_type": "markdown",
   "metadata": {},
   "source": [
    "## Greedy (Hill climbing)\n",
    "\t\t- solving the optimisation (NOT COMBINATORIAL) problems\n",
    "\t\t- it should be clear in problem that local optimisation leads to global optimisation.\t\n",
    "\t\t-  sort values based on the profits (min-heap)\n",
    "\t\t- do a loop over sorted items and pick them up if they are not in disagreement with selected items"
   ]
  },
  {
   "cell_type": "markdown",
   "metadata": {},
   "source": [
    "## BackTracking\n",
    "\t\t- works in an incremental way to attack problems. This problems are like recursive  algorithms if they ask “all number of solutions”\n",
    "\t\t- you are asked to return “all possible solutions …”\n",
    "\t\t- you are asked  for “any possible solution…”, we do not have any preference like the \n",
    "\t\t  optimization, just find the first solution that you meet: - Rat in a Maze\n",
    "\t\t- you are asked to check “is there any solution ….”\n",
    "\t\t- we start from an empty solution vector and one by one add items \n",
    "\t\t- These problems can only be solved by trying every possible configuration.\n",
    "\t\t- define a vector as a solution\n",
    "\t\t- you need to have two three-procedure: back_track(a,k,input_data), is_solution(a, k, input_data), construct_candidates(a, k,input_data) \n",
    "\t\t- define a solution as an empty list in back_track\n",
    "\t\t- if a is solution  process it\n",
    "\t\t- otherwise find all possible candidate values for position k and for each candidate call back_track and add its output to the solution\n"
   ]
  },
  {
   "cell_type": "markdown",
   "metadata": {},
   "source": [
    "## Branch and bound\n",
    "\t\t- for solving combinatorial optimization problems\n",
    "\t\t- exponential  time complexity \n",
    "\t\t- may require exploring “all possible permutations” in worst case \n",
    "\t\t- since you are asked all possible permutations then it is exactly the backtracking but a condition for exploring one node in DFS, BFS\n",
    "\t\t- When you have initialse and target state of the problems\n",
    "\t\t- use A* algorithm c(x) = g(x) + h(x) :    g(X) = cost of reaching the current node \n",
    "         \t from the root h(X) = cost of reaching an answer node from X. EXP. 8-puzzle\n",
    "\t\t8_chess_queen, job-worker assignment ()\n",
    "\t\t\n"
   ]
  },
  {
   "cell_type": "markdown",
   "metadata": {},
   "source": [
    "## graph_processing\n",
    "\t\t- Shortest-Path: use BFS if all weights are equal\n"
   ]
  },
  {
   "cell_type": "markdown",
   "metadata": {},
   "source": [
    "##  pattern searching\n",
    "\t\t- You are given an array and asked to find all occurrence of a given pattern (sub-array)\n",
    "\t\t- mostly defined over texts\n",
    "\t\t- idea is move a window over the main array, and check the last character of the window with the last character of the pattern\n",
    "\t\t- name lps indicates longest proper prefix which is also suffix.\n",
    "\t\t- you can use trie data structure, especially when you have many search query\n",
    "\t\t- Generate all suffixes of given text. —> Consider all suffixes as individual words and build a trie.\n",
    "\t\t- another solution building suffix array (find all suffixes and sort them) and do a binary search for the pattern\n",
    "\t\t\n"
   ]
  },
  {
   "cell_type": "markdown",
   "metadata": {},
   "source": [
    "## Geometric\n",
    "\t\t- These algorithms can solve Geometric problems\n",
    "\t\t- some important concepts that help:\n",
    "\t\t\t- orientation (a,b,c): clockwise, counterclockwise, collinear —>  use slope—> σ = (y2 - y1)/(x2 - x1) τ = (y3 - y2)/(x3 - x2) \n",
    "\t\t\tIf  σ < τ, the orientation is counterclockwise (left turn)\n",
    "\t\t\tIf  σ = τ, the orientation is collinear\n",
    "\t\t\tIf  σ > τ, the orientation is clockwise (right turn)\n",
    "\t\t- two lines intersects if – (p1, q1, p2) and (p1, q1, q2) have different orientations and – (p2, q2, p1) and (p2, q2, q1) have different orientations. \n",
    "\t\tor – (p1, q1, p2), (p1, q1, q2), (p2, q2, p1), and (p2, q2, q1) are all collinear and – the x-projections of (p1, q1) and (p2, q2) intersect – the y-projections of (p1, q1) and (p2, q2) intersect\n",
    "\n",
    "\t\t- area of a triangle with three points A,B,C= area(ABC) =  [ x1(y2 – y3) + x2(y3 – y1) + x3(y1-y2)]/2\n",
    "\n"
   ]
  },
  {
   "cell_type": "markdown",
   "metadata": {},
   "source": [
    "## Mathematical\n",
    "\t\t- Here you solve the problem by some pre-knowledge of the mathematic.\n",
    "\t\t- you sometimes need to play with binary representation on integers to get optimal solution\n",
    "\t\t- x is multiple of 3 if sum(digits of x) is multiple of 3. \n",
    "\t\t- If  sum(odd digits) - sum(even digits) is multiple of 11 then decimal number is multiple of 11\n",
    "\t\t- \n"
   ]
  },
  {
   "cell_type": "markdown",
   "metadata": {},
   "source": [
    "## Bit\n",
    "\t\toperators :  OR | \n",
    "\t\t\t\t  AND &\n",
    "\t\t\t\tXOR ^\n",
    "\t\t\t\tNOT ~\n",
    "\t\t\t\t>> shift to the right and import zero from the left \n",
    "\t\t\t\t<< shift to the left and import zero from the right\n",
    "\t\t\t\t1<< i   =  000..0001{0}i times\n",
    "\t\t\t\t(1<<i - 1) =  000…0000{1} i times\n",
    "\t\t\t\tMAX = ~0  1111111111111111\n",
    "\t\t\t\tMAX - (1<<i -1 ) = 111…1111{0} i times\n",
    "\t\t\t\tm << i    000…0000binary(m){0} i times\n",
    "\t\t\t\tm >>= 1  m = m >> 1  divide m by 2 and put it in m \n",
    "\t\t\t\t((n & (1 << index)) > 0)  returns bit index \n",
    "\t\t\t\tn | ( 1 << index ) sets the bit index of n to 1\n",
    "\t\t                n & ~(1 << index) sets the bit index of n to 0\t\n"
   ]
  },
  {
   "cell_type": "markdown",
   "metadata": {},
   "source": [
    "## Randomized\n",
    "\t\t- Here you are asked to do solve a problem randomly\n"
   ]
  },
  {
   "cell_type": "markdown",
   "metadata": {},
   "source": [
    "# How should we approach to an algorithm design problem?"
   ]
  },
  {
   "cell_type": "markdown",
   "metadata": {},
   "source": [
    "Follow these steps [here.](./approach.ipynb)"
   ]
  }
 ],
 "metadata": {
  "kernelspec": {
   "display_name": "Python 2",
   "language": "python",
   "name": "python2"
  },
  "language_info": {
   "codemirror_mode": {
    "name": "ipython",
    "version": 2
   },
   "file_extension": ".py",
   "mimetype": "text/x-python",
   "name": "python",
   "nbconvert_exporter": "python",
   "pygments_lexer": "ipython2",
   "version": "2.7.13"
  }
 },
 "nbformat": 4,
 "nbformat_minor": 2
}
