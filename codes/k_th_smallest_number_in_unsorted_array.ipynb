{
 "cells": [
  {
   "cell_type": "markdown",
   "metadata": {
    "collapsed": true
   },
   "source": [
    "# Problem\n",
    "\n",
    "Given an array and a number k,  we need to find the k’th smallest element in the given array. "
   ]
  },
  {
   "cell_type": "markdown",
   "metadata": {},
   "source": [
    "# Clarification\n",
    "Is k smaller than the size of array?\n",
    "\n",
    "Are array elements distinct?"
   ]
  },
  {
   "cell_type": "markdown",
   "metadata": {},
   "source": [
    "# Example\n",
    "\n",
    "Input: arr[] = {7, 10, 4, 3, 20, 15}\n",
    "\n",
    "       k = 3\n",
    "\n",
    "Output: 7\n",
    "\n",
    "Input: arr[] = {7, 10, 4, 3, 20, 15}\n",
    "    \n",
    "    k = 4\n",
    "\n",
    "Output: 10"
   ]
  },
  {
   "cell_type": "markdown",
   "metadata": {},
   "source": [
    "# Type\n",
    "\n",
    "We can see the word sorting the statment of the problem, so it shoud be either sorting or pattern matching. \n"
   ]
  },
  {
   "cell_type": "markdown",
   "metadata": {},
   "source": [
    "# Idea\n",
    "\n",
    "1) We found that the problem's type is sorting. So the first and the simplest idea is to sort the array and pick up the k'th element of the sorted array.\n",
    "    - the order of the algorithm is O(nlgn) because of the sorting.\n",
    "    - do we really need to sort whole array for finding the k'th element. Actually we don't need to pay the sorting cost for the whole array. It is enough to have correct element at its position (k) and elements on its left-side and elements on its right-side can be unsorted. It leads us to the partioning method of quick-sort. \n",
    "\n",
    "2) what does partitioning in quick-sort do?\n",
    "    - It picks an element of an array and puts it in its position in the sorted array.\n",
    "    It does one more thing, it moves all  smaller elemets than the selected item to the left-side of the selected item and all bigger elements to the right-side of the selected element.\n",
    "    - If the selected item sits in the position k then the problem is solved. \n",
    "    - for example:\n",
    "    arr[] = {7, 10, 4, 3, 20, 15}, k = 3\n",
    "    we pick up 7 for partitioning, so we will have :\n",
    "    \n",
    "    7 10 4 3 20 15 compare 10 with 7, 10 <? 7-> no, do nothing\n",
    "    7 10 4 3 20 15 compare 4 with 7, 4<?7-> yes, swap 4 with last big number (10)\n",
    "    7 4 10 3 20 15 compare 3 with 7, 3<7, swap 3 with 10\n",
    "    7 4 3 10 20 15 compare 20 with 7, 20<?7, no, do nothing\n",
    "    7 4 3 10 20 15 compare 15 with 7, 15<?7, no, do nothing\n",
    "    3 4 7 10 20 15 swap 3 with 7\n",
    "\n",
    "    \n",
    "    Since 7 sits in position k=3 then the 3'rd smallest value is 7.\n",
    "    \n",
    "    - What if it does not sit in the requested position?\n",
    "    if requested k was bigger than the postion that selected item sat then we know that the k'th smallest value should be on the right. We can recursively run the partioning function on the right to get the (k-t)'s smallest element, where t is the postion that selected item sat. \n",
    "    \n",
    "    if requested k was smaller than the postition that selected item sat (t) then we can recursively run the partitioning function on the left side of the array for finding the (k)'th smallest item. \n",
    "    \n",
    "   we can implement this idea in O(n) for one time partioning. The worst case would be O(n2) where we need to sort all elements. "
   ]
  },
  {
   "cell_type": "markdown",
   "metadata": {},
   "source": [
    "# Code"
   ]
  },
  {
   "cell_type": "code",
   "execution_count": null,
   "metadata": {
    "collapsed": true
   },
   "outputs": [],
   "source": [
    " 7   3 10 20 \n",
    "     h\n",
    "           i"
   ]
  },
  {
   "cell_type": "code",
   "execution_count": 62,
   "metadata": {},
   "outputs": [],
   "source": [
    "def partioning(arr):\n",
    "    selected_item = arr[0]\n",
    "    head_of_bigger_items = 0\n",
    "    index = 1\n",
    "    while(index < len(arr)):\n",
    "        if arr[index] < selected_item:\n",
    "            #move the index of head of bigger items one step forward\n",
    "            head_of_bigger_items += 1\n",
    "\n",
    "            #swap current item with the head of bigger item\n",
    "            arr[index], arr[head_of_bigger_items] = arr[head_of_bigger_items],arr[index]\n",
    "            \n",
    "            \n",
    "        # move index one step forward\n",
    "        index += 1\n",
    "    \n",
    "    # swap head of bigger_items-1 with 0'th item\n",
    "    arr[0], arr[head_of_bigger_items] = arr[head_of_bigger_items], arr[0]\n",
    "    return arr, head_of_bigger_items\n",
    "\n",
    "def find_kth_smallest(arr, k):\n",
    "    k = k-1\n",
    "    print arr, k\n",
    "    arr, position = partioning(arr)\n",
    "    print arr, position\n",
    "    if position ==k:\n",
    "        return arr[position]\n",
    "    elif k < position:\n",
    "        return find_kth_smallest(arr[0:position],k)\n",
    "    else:\n",
    "        return find_kth_smallest(arr[position:],k-position)"
   ]
  },
  {
   "cell_type": "code",
   "execution_count": 63,
   "metadata": {},
   "outputs": [
    {
     "data": {
      "text/plain": [
       "([4, 3, 7], 2)"
      ]
     },
     "execution_count": 63,
     "metadata": {},
     "output_type": "execute_result"
    }
   ],
   "source": [
    "arr = [7, 3,4]\n",
    "partioning(arr)"
   ]
  },
  {
   "cell_type": "markdown",
   "metadata": {},
   "source": [
    "# Edge Cases"
   ]
  },
  {
   "cell_type": "markdown",
   "metadata": {},
   "source": [
    "1) Let check if the code works correctly"
   ]
  },
  {
   "cell_type": "code",
   "execution_count": 64,
   "metadata": {},
   "outputs": [
    {
     "name": "stdout",
     "output_type": "stream",
     "text": [
      "[7, 10, 4, 3, 20, 15] 2\n",
      "[3, 4, 7, 10, 20, 15] 2\n",
      "7\n"
     ]
    }
   ],
   "source": [
    "arr = [7, 10, 4, 3, 20, 15]\n",
    "k=3\n",
    "print find_kth_smallest(arr,k)"
   ]
  },
  {
   "cell_type": "code",
   "execution_count": 72,
   "metadata": {},
   "outputs": [
    {
     "name": "stdout",
     "output_type": "stream",
     "text": [
      "[7, 10, 4, 3, 20, 15] -1\n",
      "[3, 4, 7, 10, 20, 15] 2\n",
      "[3, 4] -2\n",
      "[3, 4] 0\n",
      "[] -3\n"
     ]
    },
    {
     "ename": "IndexError",
     "evalue": "list index out of range",
     "output_type": "error",
     "traceback": [
      "\u001b[0;31m---------------------------------------------------------------------------\u001b[0m",
      "\u001b[0;31mIndexError\u001b[0m                                Traceback (most recent call last)",
      "\u001b[0;32m<ipython-input-72-0ed236cf738d>\u001b[0m in \u001b[0;36m<module>\u001b[0;34m()\u001b[0m\n\u001b[1;32m      2\u001b[0m \u001b[0;34m\u001b[0m\u001b[0m\n\u001b[1;32m      3\u001b[0m \u001b[0mk\u001b[0m\u001b[0;34m=\u001b[0m\u001b[0;36m0\u001b[0m\u001b[0;34m\u001b[0m\u001b[0m\n\u001b[0;32m----> 4\u001b[0;31m \u001b[0;32mprint\u001b[0m \u001b[0mfind_kth_smallest\u001b[0m\u001b[0;34m(\u001b[0m\u001b[0marr\u001b[0m\u001b[0;34m,\u001b[0m\u001b[0mk\u001b[0m\u001b[0;34m)\u001b[0m\u001b[0;34m\u001b[0m\u001b[0m\n\u001b[0m",
      "\u001b[0;32m<ipython-input-62-75a2eaecccf7>\u001b[0m in \u001b[0;36mfind_kth_smallest\u001b[0;34m(arr, k)\u001b[0m\n\u001b[1;32m     27\u001b[0m         \u001b[0;32mreturn\u001b[0m \u001b[0marr\u001b[0m\u001b[0;34m[\u001b[0m\u001b[0mposition\u001b[0m\u001b[0;34m]\u001b[0m\u001b[0;34m\u001b[0m\u001b[0m\n\u001b[1;32m     28\u001b[0m     \u001b[0;32melif\u001b[0m \u001b[0mk\u001b[0m \u001b[0;34m<\u001b[0m \u001b[0mposition\u001b[0m\u001b[0;34m:\u001b[0m\u001b[0;34m\u001b[0m\u001b[0m\n\u001b[0;32m---> 29\u001b[0;31m         \u001b[0;32mreturn\u001b[0m \u001b[0mfind_kth_smallest\u001b[0m\u001b[0;34m(\u001b[0m\u001b[0marr\u001b[0m\u001b[0;34m[\u001b[0m\u001b[0;36m0\u001b[0m\u001b[0;34m:\u001b[0m\u001b[0mposition\u001b[0m\u001b[0;34m]\u001b[0m\u001b[0;34m,\u001b[0m\u001b[0mk\u001b[0m\u001b[0;34m)\u001b[0m\u001b[0;34m\u001b[0m\u001b[0m\n\u001b[0m\u001b[1;32m     30\u001b[0m     \u001b[0;32melse\u001b[0m\u001b[0;34m:\u001b[0m\u001b[0;34m\u001b[0m\u001b[0m\n\u001b[1;32m     31\u001b[0m         \u001b[0;32mreturn\u001b[0m \u001b[0mfind_kth_smallest\u001b[0m\u001b[0;34m(\u001b[0m\u001b[0marr\u001b[0m\u001b[0;34m[\u001b[0m\u001b[0mposition\u001b[0m\u001b[0;34m:\u001b[0m\u001b[0;34m]\u001b[0m\u001b[0;34m,\u001b[0m\u001b[0mk\u001b[0m\u001b[0;34m-\u001b[0m\u001b[0mposition\u001b[0m\u001b[0;34m)\u001b[0m\u001b[0;34m\u001b[0m\u001b[0m\n",
      "\u001b[0;32m<ipython-input-62-75a2eaecccf7>\u001b[0m in \u001b[0;36mfind_kth_smallest\u001b[0;34m(arr, k)\u001b[0m\n\u001b[1;32m     27\u001b[0m         \u001b[0;32mreturn\u001b[0m \u001b[0marr\u001b[0m\u001b[0;34m[\u001b[0m\u001b[0mposition\u001b[0m\u001b[0;34m]\u001b[0m\u001b[0;34m\u001b[0m\u001b[0m\n\u001b[1;32m     28\u001b[0m     \u001b[0;32melif\u001b[0m \u001b[0mk\u001b[0m \u001b[0;34m<\u001b[0m \u001b[0mposition\u001b[0m\u001b[0;34m:\u001b[0m\u001b[0;34m\u001b[0m\u001b[0m\n\u001b[0;32m---> 29\u001b[0;31m         \u001b[0;32mreturn\u001b[0m \u001b[0mfind_kth_smallest\u001b[0m\u001b[0;34m(\u001b[0m\u001b[0marr\u001b[0m\u001b[0;34m[\u001b[0m\u001b[0;36m0\u001b[0m\u001b[0;34m:\u001b[0m\u001b[0mposition\u001b[0m\u001b[0;34m]\u001b[0m\u001b[0;34m,\u001b[0m\u001b[0mk\u001b[0m\u001b[0;34m)\u001b[0m\u001b[0;34m\u001b[0m\u001b[0m\n\u001b[0m\u001b[1;32m     30\u001b[0m     \u001b[0;32melse\u001b[0m\u001b[0;34m:\u001b[0m\u001b[0;34m\u001b[0m\u001b[0m\n\u001b[1;32m     31\u001b[0m         \u001b[0;32mreturn\u001b[0m \u001b[0mfind_kth_smallest\u001b[0m\u001b[0;34m(\u001b[0m\u001b[0marr\u001b[0m\u001b[0;34m[\u001b[0m\u001b[0mposition\u001b[0m\u001b[0;34m:\u001b[0m\u001b[0;34m]\u001b[0m\u001b[0;34m,\u001b[0m\u001b[0mk\u001b[0m\u001b[0;34m-\u001b[0m\u001b[0mposition\u001b[0m\u001b[0;34m)\u001b[0m\u001b[0;34m\u001b[0m\u001b[0m\n",
      "\u001b[0;32m<ipython-input-62-75a2eaecccf7>\u001b[0m in \u001b[0;36mfind_kth_smallest\u001b[0;34m(arr, k)\u001b[0m\n\u001b[1;32m     22\u001b[0m     \u001b[0mk\u001b[0m \u001b[0;34m=\u001b[0m \u001b[0mk\u001b[0m\u001b[0;34m-\u001b[0m\u001b[0;36m1\u001b[0m\u001b[0;34m\u001b[0m\u001b[0m\n\u001b[1;32m     23\u001b[0m     \u001b[0;32mprint\u001b[0m \u001b[0marr\u001b[0m\u001b[0;34m,\u001b[0m \u001b[0mk\u001b[0m\u001b[0;34m\u001b[0m\u001b[0m\n\u001b[0;32m---> 24\u001b[0;31m     \u001b[0marr\u001b[0m\u001b[0;34m,\u001b[0m \u001b[0mposition\u001b[0m \u001b[0;34m=\u001b[0m \u001b[0mpartioning\u001b[0m\u001b[0;34m(\u001b[0m\u001b[0marr\u001b[0m\u001b[0;34m)\u001b[0m\u001b[0;34m\u001b[0m\u001b[0m\n\u001b[0m\u001b[1;32m     25\u001b[0m     \u001b[0;32mprint\u001b[0m \u001b[0marr\u001b[0m\u001b[0;34m,\u001b[0m \u001b[0mposition\u001b[0m\u001b[0;34m\u001b[0m\u001b[0m\n\u001b[1;32m     26\u001b[0m     \u001b[0;32mif\u001b[0m \u001b[0mposition\u001b[0m \u001b[0;34m==\u001b[0m\u001b[0mk\u001b[0m\u001b[0;34m:\u001b[0m\u001b[0;34m\u001b[0m\u001b[0m\n",
      "\u001b[0;32m<ipython-input-62-75a2eaecccf7>\u001b[0m in \u001b[0;36mpartioning\u001b[0;34m(arr)\u001b[0m\n\u001b[1;32m      1\u001b[0m \u001b[0;32mdef\u001b[0m \u001b[0mpartioning\u001b[0m\u001b[0;34m(\u001b[0m\u001b[0marr\u001b[0m\u001b[0;34m)\u001b[0m\u001b[0;34m:\u001b[0m\u001b[0;34m\u001b[0m\u001b[0m\n\u001b[0;32m----> 2\u001b[0;31m     \u001b[0mselected_item\u001b[0m \u001b[0;34m=\u001b[0m \u001b[0marr\u001b[0m\u001b[0;34m[\u001b[0m\u001b[0;36m0\u001b[0m\u001b[0;34m]\u001b[0m\u001b[0;34m\u001b[0m\u001b[0m\n\u001b[0m\u001b[1;32m      3\u001b[0m     \u001b[0mhead_of_bigger_items\u001b[0m \u001b[0;34m=\u001b[0m \u001b[0;36m0\u001b[0m\u001b[0;34m\u001b[0m\u001b[0m\n\u001b[1;32m      4\u001b[0m     \u001b[0mindex\u001b[0m \u001b[0;34m=\u001b[0m \u001b[0;36m1\u001b[0m\u001b[0;34m\u001b[0m\u001b[0m\n\u001b[1;32m      5\u001b[0m     \u001b[0;32mwhile\u001b[0m\u001b[0;34m(\u001b[0m\u001b[0mindex\u001b[0m \u001b[0;34m<\u001b[0m \u001b[0mlen\u001b[0m\u001b[0;34m(\u001b[0m\u001b[0marr\u001b[0m\u001b[0;34m)\u001b[0m\u001b[0;34m)\u001b[0m\u001b[0;34m:\u001b[0m\u001b[0;34m\u001b[0m\u001b[0m\n",
      "\u001b[0;31mIndexError\u001b[0m: list index out of range"
     ]
    }
   ],
   "source": [
    "arr = [7, 10, 4, 3, 20, 15]\n",
    "\n",
    "k=6\n",
    "print find_kth_smallest(arr,k)"
   ]
  },
  {
   "cell_type": "raw",
   "metadata": {},
   "source": [
    "1) what if the input array is empty? len(arr)==0\n",
    "2) what if the requested element is not in the array? K>len(arr)\n",
    "3) what if we ask for the smallest value k=1?\n",
    "4) what if we aske for the largest (max) value? k==len(arr)"
   ]
  },
  {
   "cell_type": "code",
   "execution_count": 150,
   "metadata": {
    "collapsed": true
   },
   "outputs": [],
   "source": [
    "def partioning(arr):\n",
    "    selected_item = arr[0]\n",
    "    head_of_bigger_items = 0\n",
    "    index = 1\n",
    "    while(index < len(arr)):\n",
    "        if arr[index] < selected_item:\n",
    "            #move the index of head of bigger items one step forward\n",
    "            head_of_bigger_items += 1\n",
    "\n",
    "            #swap current item with the head of bigger item\n",
    "            arr[index], arr[head_of_bigger_items] = arr[head_of_bigger_items],arr[index]\n",
    "            \n",
    "            \n",
    "        # move index one step forward\n",
    "        index += 1\n",
    "    \n",
    "    # swap head of bigger_items-1 with 0'th item\n",
    "    arr[0], arr[head_of_bigger_items] = arr[head_of_bigger_items], arr[0]\n",
    "    return arr, head_of_bigger_items\n",
    "\n",
    "def find_kth_smallest(arr, k):\n",
    "    if k<1 or k > len(arr):\n",
    "        return -1\n",
    "    print arr, k\n",
    "    arr, position = partioning(arr)\n",
    "    print arr, position\n",
    "    if position ==(k-1):\n",
    "        return arr[position]\n",
    "    elif (k-1) < position:\n",
    "        return find_kth_smallest(arr[0:position],k)\n",
    "    else:\n",
    "        return find_kth_smallest(arr[position+1:],k-1-position)"
   ]
  },
  {
   "cell_type": "code",
   "execution_count": 149,
   "metadata": {},
   "outputs": [
    {
     "name": "stdout",
     "output_type": "stream",
     "text": [
      "-1\n"
     ]
    }
   ],
   "source": [
    "arr = [7, 10, 4, 3, 20, 15]\n",
    "3,4,7,10,15,20\n",
    "k = 7\n",
    "print find_kth_smallest(arr,k)"
   ]
  },
  {
   "cell_type": "code",
   "execution_count": null,
   "metadata": {
    "collapsed": true
   },
   "outputs": [],
   "source": []
  }
 ],
 "metadata": {
  "kernelspec": {
   "display_name": "Python 2",
   "language": "python",
   "name": "python2"
  },
  "language_info": {
   "codemirror_mode": {
    "name": "ipython",
    "version": 2
   },
   "file_extension": ".py",
   "mimetype": "text/x-python",
   "name": "python",
   "nbconvert_exporter": "python",
   "pygments_lexer": "ipython2",
   "version": "2.7.13"
  }
 },
 "nbformat": 4,
 "nbformat_minor": 2
}
