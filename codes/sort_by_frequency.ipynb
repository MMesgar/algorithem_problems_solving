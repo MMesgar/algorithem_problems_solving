{
 "cells": [
  {
   "cell_type": "markdown",
   "metadata": {
    "collapsed": true
   },
   "source": [
    "# Problem\n",
    "Print the elements of an array in the decreasing frequency\n"
   ]
  },
  {
   "cell_type": "markdown",
   "metadata": {},
   "source": [
    "# Clarification\n",
    "1)  Are there any time and space complexity as requirement?\n",
    "\n",
    "ans.?\n",
    "\n",
    "2) What if two elements have the same frequency?\n",
    "if 2 numbers have same frequency then print the one which came first.\n",
    "\n",
    "3) Are all numbers positive?\n",
    "\n",
    "4) What is the min and max possible value for each element?\n"
   ]
  },
  {
   "cell_type": "markdown",
   "metadata": {},
   "source": [
    "# Example\n"
   ]
  },
  {
   "cell_type": "code",
   "execution_count": 68,
   "metadata": {
    "collapsed": true
   },
   "outputs": [],
   "source": [
    "input = [2, 5, 2, 8, 5, 6, 8, 8]\n",
    "\n",
    "output = [8, 8, 8, 2, 2, 5, 5, 6]"
   ]
  },
  {
   "cell_type": "markdown",
   "metadata": {},
   "source": [
    "# Type\n",
    "\n",
    "There is a word similar to sorting (\"decreasing\") in the statment of the problem. So can we solve this problem by sorting?"
   ]
  },
  {
   "cell_type": "markdown",
   "metadata": {},
   "source": [
    "# Ideas\n",
    "1) We are going to sort based on the frequencies. So one idea it to keep the frequencies of items in a hash-table and then sort the frequencies. Then we can return the keys. How to keep the order of items with the same frequencies? we can keep the the first hit of each item as value in the hash-table. If the frequency of the all items be one then we have the worst case that we need to sort n frequencies which is O(nlgn). \n",
    "\n",
    "Can we do it faster?\n",
    "\n",
    "2) We need to traverse whole array, so it is not possible to it better than O(n). \n",
    "Can we do it with one traverse? No, we need to sort the frequencies by the way."
   ]
  },
  {
   "cell_type": "markdown",
   "metadata": {},
   "source": [
    "# Code"
   ]
  },
  {
   "cell_type": "code",
   "execution_count": 69,
   "metadata": {},
   "outputs": [],
   "source": [
    "def sort_elements(data):\n",
    "    \n",
    "    i=1\n",
    "    \n",
    "    while(i<len(data)):\n",
    "        \n",
    "        j = i-1\n",
    "        \n",
    "        while (j>=0):\n",
    "            \n",
    "            if data[j+1][2] > data[j][2]:\n",
    "                \n",
    "                data[j+1], data[j] = data[j],data[j+1]\n",
    "            \n",
    "            elif ( data[j+1][2] == data[j][2]) and ( data[j+1][1] < data[j][1]):\n",
    "                \n",
    "                data[j+1], data[j] = data[j],data[j+1]\n",
    "            j -= 1\n",
    "        i+=1\n",
    "    \n",
    "    return data"
   ]
  },
  {
   "cell_type": "code",
   "execution_count": 70,
   "metadata": {
    "collapsed": true
   },
   "outputs": [],
   "source": [
    "\n",
    "def sort_by_frequencies(inp_arr):\n",
    "   \n",
    "    freq = {}\n",
    "    \n",
    "    for i,item in enumerate(inp_arr):\n",
    "        if item in freq.keys():\n",
    "            value = freq[item]\n",
    "            freq[item] = (value[0],value[1]+1)\n",
    "        else:\n",
    "            value = (i,1)\n",
    "            freq[item] = value\n",
    "    \n",
    "    # sort frequencies based on the second elements of values\n",
    "    l = [(key,value[0],value[1]) for key,value in freq.items()]\n",
    "\n",
    "    l = sort_elements(l)\n",
    "\n",
    "    output_arr = []\n",
    "    \n",
    "    for item in l:\n",
    "        \n",
    "        element = item[0]\n",
    "        \n",
    "        freq = item[2]\n",
    "        \n",
    "        output_arr += ([element]*freq)\n",
    "        \n",
    "    return output_arr"
   ]
  },
  {
   "cell_type": "code",
   "execution_count": 71,
   "metadata": {},
   "outputs": [
    {
     "data": {
      "text/plain": [
       "[8, 8, 8, 2, 2, 5, 5, 6]"
      ]
     },
     "execution_count": 71,
     "metadata": {},
     "output_type": "execute_result"
    }
   ],
   "source": [
    "sort_by_frequencies([2, 5, 2, 8, 5, 6, 8, 8])"
   ]
  },
  {
   "cell_type": "code",
   "execution_count": 72,
   "metadata": {},
   "outputs": [
    {
     "data": {
      "text/plain": [
       "[8, 8, 8, 2, 2, 5, 5, 6, -1, 9999999]"
      ]
     },
     "execution_count": 72,
     "metadata": {},
     "output_type": "execute_result"
    }
   ],
   "source": [
    "sort_by_frequencies([2, 5, 2, 6, -1, 9999999, 5, 8, 8, 8])"
   ]
  },
  {
   "cell_type": "markdown",
   "metadata": {},
   "source": [
    "# Edge Cases"
   ]
  },
  {
   "cell_type": "markdown",
   "metadata": {},
   "source": [
    "1- what if the input array is empty? we return empty array."
   ]
  },
  {
   "cell_type": "code",
   "execution_count": 73,
   "metadata": {},
   "outputs": [
    {
     "data": {
      "text/plain": [
       "[]"
      ]
     },
     "execution_count": 73,
     "metadata": {},
     "output_type": "execute_result"
    }
   ],
   "source": [
    "sort_by_frequencies([])"
   ]
  },
  {
   "cell_type": "markdown",
   "metadata": {},
   "source": [
    "4- what if all elements are unique?"
   ]
  },
  {
   "cell_type": "code",
   "execution_count": 78,
   "metadata": {},
   "outputs": [
    {
     "data": {
      "text/plain": [
       "[1, 0, 2, 3, 4, 5, 6]"
      ]
     },
     "execution_count": 78,
     "metadata": {},
     "output_type": "execute_result"
    }
   ],
   "source": [
    "sort_by_frequencies([1,0,2,3,4,5,6])"
   ]
  },
  {
   "cell_type": "code",
   "execution_count": null,
   "metadata": {
    "collapsed": true
   },
   "outputs": [],
   "source": []
  }
 ],
 "metadata": {
  "kernelspec": {
   "display_name": "Python 2",
   "language": "python",
   "name": "python2"
  },
  "language_info": {
   "codemirror_mode": {
    "name": "ipython",
    "version": 2
   },
   "file_extension": ".py",
   "mimetype": "text/x-python",
   "name": "python",
   "nbconvert_exporter": "python",
   "pygments_lexer": "ipython2",
   "version": "2.7.13"
  }
 },
 "nbformat": 4,
 "nbformat_minor": 2
}
