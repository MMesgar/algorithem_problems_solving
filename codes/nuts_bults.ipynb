{
 "cells": [
  {
   "cell_type": "markdown",
   "metadata": {
    "collapsed": true
   },
   "source": [
    "# Problem\n",
    "Given a set of n nuts of different sizes and n bolts of different sizes.  Match nuts and bolts efficiently.\n",
    "Constraint: Comparison of a nut to another nut or a bolt to another bolt is not allowed. It means nut can only be compared with bolt and bolt can only be compared with nut to see which one is bigger/smaller.\n",
    "\n",
    "Other way of asking this problem is, given a box with locks and keys where one lock can be opened by one key in the box. We need to match the pair.\n"
   ]
  },
  {
   "cell_type": "markdown",
   "metadata": {},
   "source": [
    "# Clarification\n",
    "1)  Is  there a one-one mapping between nuts and bolts?\n",
    "\n",
    "2) Is the size of each nuts and bolts unique?"
   ]
  },
  {
   "cell_type": "markdown",
   "metadata": {},
   "source": [
    "# Example\n"
   ]
  },
  {
   "cell_type": "code",
   "execution_count": 4,
   "metadata": {},
   "outputs": [],
   "source": [
    "nuts = [1, 3, 5, 7, 6, 4, 2]\n",
    "\n",
    "bolts= [7, 1, 5, 2, 4, 6, 3]"
   ]
  },
  {
   "cell_type": "markdown",
   "metadata": {},
   "source": [
    "# Type\n",
    "\n",
    "There is not any word similar to sorting in the statment of the problem. There is no sign in the question at all. So the first idea is using brute force and maybe sorting. "
   ]
  },
  {
   "cell_type": "code",
   "execution_count": null,
   "metadata": {
    "collapsed": true
   },
   "outputs": [],
   "source": [
    "[1, 2, 4, 3, 5, 6, 7]\n",
    "             h        i"
   ]
  },
  {
   "cell_type": "markdown",
   "metadata": {},
   "source": [
    "# Idea\n",
    "1) If there is no sign of we always start with sorting. It is clear that if we sort both arrays then we can easily find one-2-one match between nuts and bolths. \n",
    "The complexity is O(2nlgn). \n",
    "\n",
    "We should always ask if we really need to pay for sorting the whole arrays? \n",
    "2) Let pick up an item from nuts, for example 5,\n",
    "then partitioning the bolts  based on this value (5). As a result, all bolts on the right-side of the (5) are bigger than (5) and all the bolts on the left-side are smaller than (5). \n",
    "\n",
    "nuts = [5, 3, 1, 7, 6, 4, 2]\n",
    "bolts= [7, 1, 5, 2, 4, 6, 3]\n",
    "\n",
    "partitioning bolts arounf (5)\n",
    "\n",
    "nuts =  [5, 3, 1, 7, 6, 4, 2]\n",
    "bolts=  [7, 1, 5, 2, 4, 6, 3] swap 5 with the first element and then do partitioning\n",
    "        [5, 1, 7, 2, 4, 6, 3]\n",
    "        [5, 1, 7, 2, 4, 6, 3]\n",
    "        [5, 1, 7, 2, 4, 6, 3]\n",
    "        [5, 1, 2, 7, 4, 6, 3]\n",
    "        [5, 1, 2, 4, 7, 6, 3]\n",
    "        [5, 1, 2, 4, 7, 6, 3]\n",
    "        [5, 1, 2, 4, 3, 6, 7]\n",
    "        [3, 1, 2, 4, 5, 6, 7]\n",
    "now we can say that the b5 matches with n5. \n",
    "We can do two things now: either pick up another item from nuts and compare it with 5. If it is smaller then we run prationing one more time the left side of 5 in bolts. If it  is greater than 5 we run it on the right-side of the 5 in bolts. What should we do for the third nuts item? It does not make sense to compare it with all former values of nuts. \n",
    "\n",
    "The second solution that we can do is that we run partitoning on nuts over (5) too. \n",
    "The output would be like:\n",
    "nuts =  [5, 3, 1, 7, 6, 4, 2] put 5 in the first item\n",
    "        [5, 3, 1, 7, 6, 4, 2]\n",
    "        [5, 3, 1, 7, 6, 4, 2]\n",
    "        [5, 1, 3, 7, 6, 4, 2]\n",
    "        [5, 1, 3, 4, 6, 7, 2]\n",
    "        [5, 1, 3, 4, 2, 7, 6]\n",
    "        [2, 1, 3, 4, 5, 7, 6]\n",
    " bolts=  [1, 3, 2, 4, 5, 6, 7]\n",
    " \n",
    " now we can recursively run the model on the left subarray (with respect to 5) of nuts and bots and one time on the right-side.\n",
    " \n",
    " Partitioning is O(n) (finding the place of the value is O(n) too). We run partioning on both arrays, so the order would be O(2n). Then we apply them on the left and right side sub-arrays then it should be \\theta(2nlgn). Note the length of sub-arrays are not necesserly half of the input arrays (they are linear) so the average cost is \\theta(2nlgn)."
   ]
  },
  {
   "cell_type": "markdown",
   "metadata": {},
   "source": [
    "# Code"
   ]
  },
  {
   "cell_type": "code",
   "execution_count": 17,
   "metadata": {
    "collapsed": true
   },
   "outputs": [],
   "source": [
    "def partioning(arr, value):\n",
    "    value_index = -1\n",
    "    for index,item in enumerate(arr):\n",
    "        if item == value:\n",
    "            value_index = index\n",
    "    if value_index==-1:\n",
    "        raise ValueError('%d does not exist in arr'%value)\n",
    "    \n",
    "    # swap value_index with first item\n",
    "    arr[0], arr[value_index] = arr[value_index], arr[0]\n",
    "    \n",
    "    # define some indices\n",
    "    final_value_position = 0\n",
    "    index = 1\n",
    "    while(index < len(arr)):\n",
    "        if arr[index] < arr[0]:\n",
    "            final_value_position += 1\n",
    "            arr[final_value_position], arr[index] = arr[index],arr[final_value_position]            \n",
    "       \n",
    "        # ensure that index is increasing\n",
    "        index += 1\n",
    "    # put arr[0] in its final position\n",
    "    arr[final_value_position], arr[0] = arr[0],arr[final_value_position]\n",
    "    \n",
    "    return arr, final_value_position"
   ]
  },
  {
   "cell_type": "code",
   "execution_count": 24,
   "metadata": {},
   "outputs": [],
   "source": [
    "def nuts_bolts(nuts,bolts):\n",
    "    output = []\n",
    "    if len(nuts)!= len(bolts):\n",
    "        raise ValueError(\"different length\")\n",
    "    if len(nuts) == 1:\n",
    "        output.append((nuts[0], bolts[0]))\n",
    "        return output\n",
    "    if len(nuts)==0:\n",
    "        return output\n",
    "    item = nuts[0]\n",
    "    nuts, nuts_item_index = partioning(nuts, item)\n",
    "    bolts, bolts_item_index =  partioning(bolts, item)\n",
    "    output.append((item,item))\n",
    "    \n",
    "    output += nuts_bolts(nuts[:nuts_item_index], bolts[:bolts_item_index])\n",
    "    output += nuts_bolts(nuts[nuts_item_index+1:], bolts[bolts_item_index+1:])\n",
    "    \n",
    "    return output"
   ]
  },
  {
   "cell_type": "code",
   "execution_count": 25,
   "metadata": {},
   "outputs": [
    {
     "data": {
      "text/plain": [
       "[(1, 1), (3, 3), (2, 2), (7, 7), (5, 5), (4, 4), (6, 6)]"
      ]
     },
     "execution_count": 25,
     "metadata": {},
     "output_type": "execute_result"
    }
   ],
   "source": [
    "nuts = ['1, 3, 5, 7, 6, 4, 2]\n",
    "bolts= [7, 1, 5, 2, 4, 6, 3]\n",
    "nuts_bolts(nuts, bolts)"
   ]
  },
  {
   "cell_type": "code",
   "execution_count": 28,
   "metadata": {},
   "outputs": [
    {
     "data": {
      "text/plain": [
       "[('@', '@'), ('&', '&'), ('%', '%'), ('$', '$'), ('#', '#'), ('^', '^')]"
      ]
     },
     "execution_count": 28,
     "metadata": {},
     "output_type": "execute_result"
    }
   ],
   "source": [
    "nuts = [\"@\", \"#\", \"$\", \"%\", \"^\", \"&\"]\n",
    "bolts = [\"$\", \"%\", \"&\", \"^\", \"@\", \"#\"]\n",
    "nuts_bolts(nuts, bolts)"
   ]
  },
  {
   "cell_type": "markdown",
   "metadata": {},
   "source": [
    "# Edge Cases"
   ]
  },
  {
   "cell_type": "code",
   "execution_count": null,
   "metadata": {
    "collapsed": true
   },
   "outputs": [],
   "source": []
  }
 ],
 "metadata": {
  "kernelspec": {
   "display_name": "Python 2",
   "language": "python",
   "name": "python2"
  },
  "language_info": {
   "codemirror_mode": {
    "name": "ipython",
    "version": 2
   },
   "file_extension": ".py",
   "mimetype": "text/x-python",
   "name": "python",
   "nbconvert_exporter": "python",
   "pygments_lexer": "ipython2",
   "version": "2.7.13"
  }
 },
 "nbformat": 4,
 "nbformat_minor": 2
}
