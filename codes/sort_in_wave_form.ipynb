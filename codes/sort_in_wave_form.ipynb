{
 "cells": [
  {
   "cell_type": "markdown",
   "metadata": {
    "collapsed": true
   },
   "source": [
    "# Problem\n",
    "Given an unsorted array of integers, sort the array into a wave like array. An array ‘arr[0..n-1]’ is sorted in wave form if arr[0] >= arr[1] <= arr[2] >= arr[3] <= arr[4] >= ….\n"
   ]
  },
  {
   "cell_type": "markdown",
   "metadata": {},
   "source": [
    "# Clarification\n",
    "1)  Are there any time and space complexity as requirement?\n",
    "\n",
    "ans. This can be done in O(n) time by doing a single traversal of given array.\n",
    "\n",
    "2) Should I assume items are not unique, because we have \"=\" in the question? "
   ]
  },
  {
   "cell_type": "markdown",
   "metadata": {},
   "source": [
    "# Example\n"
   ]
  },
  {
   "cell_type": "code",
   "execution_count": 3,
   "metadata": {},
   "outputs": [],
   "source": [
    "input = [10, 5, 6, 3, 2, 20, 100, 80]\n",
    "\n",
    "output = [10, 5, 6, 2, 20, 3, 100, 80]\n",
    "\n",
    "output=  [20, 5, 10, 2, 80, 6, 100, 3]"
   ]
  },
  {
   "cell_type": "markdown",
   "metadata": {},
   "source": [
    "# Type\n",
    "\n",
    "There is a word similar to sorting (\"an unsorted array\") in the statment of the problem. So can we solve this problem by sorting?"
   ]
  },
  {
   "cell_type": "markdown",
   "metadata": {},
   "source": [
    "# Ideas\n",
    "1) If we sort the input array, then a[0]<= a[1] <=a[2]<=a[3] (we assumed 4 items in the array.). \n",
    "Just we need to swap a[0]<->a[1],a[2]<->a[3], so we will have a[1] >= a[0] <= a[3] >= a[2] \n",
    "\n",
    "We should always ask if we really need to pay for sorting the whole array?\n",
    "Not really because there is no relation between a[0], a[2] , a[4] , ....\n",
    "similarly we do not need to put any restrictions on the odd elements. \n",
    "So complete sorting is not needed. \n",
    "\n",
    "2) The cost of sorting is O(nlgn). If we would like to do it faster, it means one traversal of the input array should be sufficient. \n",
    "\n",
    "\n",
    "Assume that we have an array like this where index i is set on the first element:\n",
    "\n",
    "[10, 5, 6, 3, 2, 20, 100, 80],  i = 0 \n",
    "\n",
    "the even elements should be greater than the next elements. If it is not valid, we swap the element with its next element. In this case we have a[i]=10>=a[1]=5 which means we do not need any swap. We have a similar rule for odd elements.\n",
    "\n",
    "[10, 5, 6, 3, 2, 20, 100, 80],  i = 0 a[i]>=a[i+1] ==> 10 >= 5? YES ==> do nothing, and  i+=1\n",
    "\n",
    "[10, 5, 6, 3, 2, 20, 100, 80],  i = 1 a[i]<=a[i+1] ==> 5 >= 6? YES ==> do nothing, and  i+=1\n",
    "\n",
    "[10, 5, 6, 3, 2, 20, 100, 80],  i = 2 a[i]>=a[i+1] ==> 6 >= 3? YES ==>do nothing, and  i+=1\n",
    "\n",
    "[10, 5, 6, 3, 2, 20, 100, 80],  i = 3 a[i]<=a[i+1] ==> 3 <= 2? NO ==> swap them, and  i+=1\n",
    "\n",
    "[10, 5, 6, 2, 3, 20, 100, 80],  i = 4 a[i]>=a[i+1] ==> 3 >= 20? NO ==> swap them, and  i+=1\n",
    "\n",
    "[10, 5, 6, 2, 20, 3, 100, 80],  i = 5 a[i]<=a[i+1] ==> 3 <= 100? YES ==> do nothing, and  i+=1\n",
    "\n",
    "[10, 5, 6, 2, 20, 3, 100, 80],  i = 6 a[i]>=a[i+1] ==> 100 <= 80? YES ==> do nothing, and  i+=1\n",
    "\n",
    "[10, 5, 6, 2, 20, 3, 100, 80],  i = 7 if i== len(arry): return the output array.\n",
    "\n",
    "\n",
    "3) is it possible to do it faster? actually faster than O(n) means O(lgn) which means we should process only half of the elements of the array which is impossible.\n"
   ]
  },
  {
   "cell_type": "markdown",
   "metadata": {},
   "source": [
    "# Code"
   ]
  },
  {
   "cell_type": "code",
   "execution_count": 10,
   "metadata": {},
   "outputs": [],
   "source": [
    "def waving(inp_arr):\n",
    "   \n",
    "    for i in range(len(inp_arr)-1):\n",
    "        \n",
    "        if (i % 2 == 0) and not(inp_arr[i]>= inp_arr[i+1]):\n",
    "            \n",
    "            inp_arr[i],inp_arr[i+1] = inp_arr[i+1],inp_arr[i]\n",
    "            \n",
    "        elif (i % 2 == 1) and not(inp_arr[i]<=inp_arr[i+1]):\n",
    "            \n",
    "            inp_arr[i], inp_arr[i+1] = inp_arr[i+1], inp_arr[i]\n",
    "            \n",
    "    return inp_arr"
   ]
  },
  {
   "cell_type": "code",
   "execution_count": 12,
   "metadata": {},
   "outputs": [
    {
     "data": {
      "text/plain": [
       "[5, 2, 7, 4, 10, 0]"
      ]
     },
     "execution_count": 12,
     "metadata": {},
     "output_type": "execute_result"
    }
   ],
   "source": [
    "waving([4,5,2,7,10,0])"
   ]
  },
  {
   "cell_type": "markdown",
   "metadata": {},
   "source": [
    "# Edge Cases"
   ]
  },
  {
   "cell_type": "markdown",
   "metadata": {
    "collapsed": true
   },
   "source": [
    "1- In both branches of IF-ELSE we are doing swaping; so we can put the, in one command."
   ]
  },
  {
   "cell_type": "code",
   "execution_count": 15,
   "metadata": {},
   "outputs": [],
   "source": [
    "def waving(inp_arr):\n",
    "   \n",
    "    for i in range(len(inp_arr)-1):\n",
    "        \n",
    "        if ((i % 2 == 0) and not(inp_arr[i]>= inp_arr[i+1])) or \\\n",
    "        ((i % 2 == 1) and not(inp_arr[i]<=inp_arr[i+1])):\n",
    "            \n",
    "            inp_arr[i],inp_arr[i+1] = inp_arr[i+1],inp_arr[i]\n",
    "            \n",
    "    return inp_arr"
   ]
  },
  {
   "cell_type": "code",
   "execution_count": 16,
   "metadata": {},
   "outputs": [
    {
     "data": {
      "text/plain": [
       "[5, 2, 7, 4, 10, 0]"
      ]
     },
     "execution_count": 16,
     "metadata": {},
     "output_type": "execute_result"
    }
   ],
   "source": [
    "waving([4,5,2,7,10,0])"
   ]
  },
  {
   "cell_type": "markdown",
   "metadata": {},
   "source": [
    "2- what if the input array is empty? we return empty array."
   ]
  },
  {
   "cell_type": "code",
   "execution_count": 17,
   "metadata": {},
   "outputs": [
    {
     "data": {
      "text/plain": [
       "[]"
      ]
     },
     "execution_count": 17,
     "metadata": {},
     "output_type": "execute_result"
    }
   ],
   "source": [
    "waving([])"
   ]
  },
  {
   "cell_type": "markdown",
   "metadata": {},
   "source": [
    "3- what if the input array is sorted in reverse order?"
   ]
  },
  {
   "cell_type": "code",
   "execution_count": 18,
   "metadata": {},
   "outputs": [
    {
     "data": {
      "text/plain": [
       "[10, 5, 7, 2, 4, 0]"
      ]
     },
     "execution_count": 18,
     "metadata": {},
     "output_type": "execute_result"
    }
   ],
   "source": [
    "waving([10,7,5,4,2,0])"
   ]
  },
  {
   "cell_type": "code",
   "execution_count": null,
   "metadata": {
    "collapsed": true
   },
   "outputs": [],
   "source": []
  }
 ],
 "metadata": {
  "kernelspec": {
   "display_name": "Python 2",
   "language": "python",
   "name": "python2"
  },
  "language_info": {
   "codemirror_mode": {
    "name": "ipython",
    "version": 2
   },
   "file_extension": ".py",
   "mimetype": "text/x-python",
   "name": "python",
   "nbconvert_exporter": "python",
   "pygments_lexer": "ipython2",
   "version": "2.7.13"
  }
 },
 "nbformat": 4,
 "nbformat_minor": 2
}
