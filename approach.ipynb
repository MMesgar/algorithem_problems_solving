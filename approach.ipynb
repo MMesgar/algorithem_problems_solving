{
 "cells": [
  {
   "cell_type": "markdown",
   "metadata": {
    "collapsed": true
   },
   "source": [
    "# How should we approach to an algorithm design problem?"
   ]
  },
  {
   "cell_type": "markdown",
   "metadata": {},
   "source": [
    "## 1. \n",
    "## 2."
   ]
  },
  {
   "cell_type": "markdown",
   "metadata": {},
   "source": [
    "## 3.  What is the type of the problem?\n"
   ]
  },
  {
   "cell_type": "markdown",
   "metadata": {},
   "source": [
    "### 3.1.  Sorting:\n"
   ]
  },
  {
   "cell_type": "markdown",
   "metadata": {},
   "source": [
    " - word “sorting” (unsorted, sort ,…), is explicitly mentioned in the question\n",
    " - can you do pattern matching?\n",
    "    - pivot in quick sort\n",
    "       \n",
    "       p1. \t[K’th Smallest/Largest Element in Unsorted Array](./codes/k_th_smallest_number_in_unsorted_array.ipynb)\n",
    "       \n",
    "       p2. [Nuts & Bolts Problem (Lock & Key problem)](./codes/nuts_bults.ipynb)\n",
    "       \n",
    "       p3. [Sort an array in wave form](./codes/sort_in_wave_form.ipynb)\n",
    "       \n",
    "       p4. [Sort elements by frequency](./codes/sort_by_frequency.ipynb)\n"
   ]
  },
  {
   "cell_type": "code",
   "execution_count": null,
   "metadata": {
    "collapsed": true
   },
   "outputs": [],
   "source": []
  }
 ],
 "metadata": {
  "kernelspec": {
   "display_name": "Python 3",
   "language": "python",
   "name": "python3"
  },
  "language_info": {
   "codemirror_mode": {
    "name": "ipython",
    "version": 3
   },
   "file_extension": ".py",
   "mimetype": "text/x-python",
   "name": "python",
   "nbconvert_exporter": "python",
   "pygments_lexer": "ipython3",
   "version": "3.7.1"
  }
 },
 "nbformat": 4,
 "nbformat_minor": 2
}
