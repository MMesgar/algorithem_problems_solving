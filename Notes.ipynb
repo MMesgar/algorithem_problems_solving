{
 "cells": [
  {
   "cell_type": "markdown",
   "metadata": {},
   "source": [
    "# A summary of my mistakes when I was practicing the problems"
   ]
  },
  {
   "cell_type": "markdown",
   "metadata": {},
   "source": [
    "- first solve the problem for yourself. Then write psudo code. Then final code.\n",
    "\n",
    "- Always check for empty inputs, in particular in graphs and trees\n",
    "\n",
    "- grid of 0 and 1 can be transformed to graphs\n",
    "\n",
    "- in BFS for tracing the path, define a hashmap (dictionary) for each node and keep the path until to that node. When you explore childern of a node, then add that child to the path to define the new path for each node. To keep track of shotest path length, use a dictionary and save the length from source to each node. A more efficient way could be to define the save the length next to the visited. \n",
    "\n",
    "- level order is just BFS, but you need to keep track of the level of each node and triger an action if the level of the node differs from what we have as the level that we are processing. "
   ]
  },
  {
   "cell_type": "code",
   "execution_count": null,
   "metadata": {},
   "outputs": [],
   "source": []
  }
 ],
 "metadata": {
  "kernelspec": {
   "display_name": "Python 3",
   "language": "python",
   "name": "python3"
  },
  "language_info": {
   "codemirror_mode": {
    "name": "ipython",
    "version": 3
   },
   "file_extension": ".py",
   "mimetype": "text/x-python",
   "name": "python",
   "nbconvert_exporter": "python",
   "pygments_lexer": "ipython3",
   "version": "3.7.1"
  }
 },
 "nbformat": 4,
 "nbformat_minor": 2
}
