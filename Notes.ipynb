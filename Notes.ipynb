{
 "cells": [
  {
   "cell_type": "markdown",
   "metadata": {},
   "source": [
    "# A summary of my mistakes when I was practicing the problems"
   ]
  },
  {
   "cell_type": "markdown",
   "metadata": {},
   "source": [
    "- first solve the problem for yourself. Then write psudo code. Then final code.\n",
    "\n",
    "- always check for empty inputs, in particular in graphs and trees.\n",
    "\n",
    "- grids can be generaly transformed to graphs. \n",
    "\n",
    "- in BFS for tracing the path, define a hashmap (dictionary) for each node and keep the path until to that node. When you explore childern of a node, then add that child to the path to define the new path for each node. To keep track of shortest path length, use a dictionary and save the length from source to each node. A more efficient way could be to save each node in the visited node as a pair. \n",
    "\n",
    "- level order means performing BFS and keep track of the level of each node. Triger an action if the level of the node differs from what we have as the level that we are processing. \n",
    "\n",
    "- To find MST using Kruksal's algorithm, you should use UnionFind data structure.\n",
    "\n",
    "- shortest path:\n",
    "\n",
    "    - if graph is unweighted, apply BFS\n",
    "    - if graph is weighted with non-negative weights, apply Dijkstra’s algorithm (weighted version of BFS, which means initaite dist to each node with infinity and then use heapq instead of normal queue to process the nodes.)\n",
    "    - if graph is weighted including negative weights, apply Bellman-Ford algorithm \n",
    "\n",
    "\n",
    "- if an optimization problem with multiple constraints (e.g. shortest path and minimum number of nodes) should be applied to a graph, define a dictionary for each constraint. Validate each node for each constraint. Add each node to the queue if any condition holds. An alternative idea is to use iterative optimizatoin. We fix one constraint and optimize for one the second constraint. Then we change the value for the second constraint and then optimize for the first constraint. \n",
    "\n",
    "- Once you've figured out that the question can be modeled as a graph problem, you then need to think about the various aspects of a graph i.e.\n",
    "\n",
    "    - directed vs undirected\n",
    "    \n",
    "    - weighted vs unweighted\n",
    "    \n",
    "    - cyclic vs acyclic\n",
    "    \n",
    "- Topological sorting is all about indegree and visited. You pick up the node with zero indegree each time and reduce the indegree of its neighbours. What is important is to check the edge case at the end. If there is no node with indegree 0 then there is no topologial sorted output. You should return an empty list. To check this, the len of the output should be identical to the number of nodes in the graph. \n",
    "\n",
    "- if there are some conditions on the inputs, you should check if the input holds to conditions. \n",
    "\n",
    "- Finidng parallel items needs Khan's algorithm, which performs topological search. \n",
    "\n",
    "## Array\n",
    "\n",
    "- for array problems, one quick solutions is to convert numbers to string and then use string functions, e.g., len and split\n",
    "\n",
    "- if you need to insert into an empty array in different places at a time, you should predefine the list with default values like ``[None]*n``. Then you can easily access each item and fill its value. \n",
    "\n",
    "- if you receive an array questoin, you should ask if your solution should be in place or not. Should we deal with any memory restriction? \n",
    "\n",
    "- if you are removing an item from a list **inplace**, you don't have to shift all next items one to the left. Instead, you can just replace the item you want to delete with the last item in the list. You can do this idea if the order of items does not matter. \n",
    "\n",
    "- when you are dealing with length of array (not the capcity), you can use the ``n=len(arr)`` command. It give you the number of items in the arr. If you remove one item from the arr, n decreases by 1. However, some tasks want you  not to touch the rest of the array. \n",
    "\n",
    "- when the interviewer asks you to improve the space complexity in arrays, you should try using in-place modification. One trick to modify the array is to change the content. If you want to mark visited items in the array without using hashmap or extra space, you just need to make visited items negative. Then based on the sign of the content, you can identify which item is visited or not. \n",
    "\n",
    "\n",
    "\n",
    "- if an array is sorted, we use BS (binary search) to search for an iterm in the array. \n",
    "\n",
    "\n",
    "- Problem to practice: \n",
    "    - In-place Array operations are a big deal for programming interviews, where there is a big focus on minimising both time and space complexity of algorithms.\n",
    "    - removing duplicate items from an array in place. \n",
    "    - 448. Find All Numbers Disappeared in an Array\n",
    "    \n",
    "    "
   ]
  },
  {
   "cell_type": "markdown",
   "metadata": {},
   "source": [
    "# Recursion\n",
    "\n",
    "- we always define a helper function.\n",
    "\n",
    "- There are two ways to deal with input variable: (1) sending the full input to the helper and limiting its processing boundry by some pointers ``helper(input, left, right)``, (2) sending only a sub-part of the input to the helper function ``helper(input[left:right])``. \n",
    "\n",
    "- There are also two ways to deal with output of the helper: (1) in-place and (2) not in-place. \n",
    "\n",
    "    - In (1), the helper does not return anything. In this case, the output is given to the helper function as function's arguments ``helper(output)``. The helper funciton modifies it in-place and does not return anything. \n",
    "\n",
    "    - In (2), the helper function defines a local output variable and return it. You should have a mechanism on how to combine the output with what you have inside the helper function. \n",
    "\n",
    "- Inside the helper function, you introduce two concepts:\n",
    "    \n",
    "    - recursion relation: if you assume a subproblem is solved, how do you combine its output with the output of the current problem.\n",
    "    \n",
    "    -  base case: if there is no subproblem to solve, what should this helper function return. \n",
    "    \n",
    "\n",
    "- if you should change the list, it's better to return the output. \n",
    "\n",
    "- if you should change the array, it's better to do it inplace. \n",
    "\n",
    "- **in most cases, it is more straightforward if you define inputs and outputs as arguments of the helper function. In particul**\n",
    "\n",
    "- Memorization is a technique to improve the speed of recusion, when you need duplicate calculations. To store the intermediate results of your caluclations, you should use hashmap. In the base case of the helper function, we check if the input is in the hashmap. If so, we stop the recursion by returning the input's value. \n",
    "\n",
    "- Recustions is solution to most Linked List and Tree-based problems.\n",
    "\n",
    "- **Problems to practice**\n",
    "    - [50. Pow(x, n)](https://leetcode.com/problems/powx-n/)\n",
    "    - [21. Merge Two Sorted Lists](https://leetcode.com/problems/merge-two-sorted-lists/)\n",
    "    - [779. K-th Symbol in Grammar](https://leetcode.com/problems/k-th-symbol-in-grammar/)\n",
    "    - [95. Unique Binary Search Trees II](https://leetcode.com/problems/unique-binary-search-trees-ii/)\n"
   ]
  },
  {
   "cell_type": "markdown",
   "metadata": {},
   "source": [
    "# Dynamic Programming (DP)\n",
    "\n",
    "- common characteristics of DP problems \n",
    "\n",
    "    - usually an optimization problem, which asks for the optimum value (maximum or minimum) of something, or the number of ways to do something (this problems can be solved by Greedy as well)\n",
    "    \n",
    "    - overlapping structure similar to recursion with memorization (future \"decisions\" depend on earlier decisions). Greedy algorithms cannot solve these problems. \n",
    "    \n",
    "- given an optimization problem, always try the greedy algorithm first. If you can find an example that greedy approach destorys your optimal solution them go for DP. \n",
    "\n",
    "- two approaches to DP implementation (1) buttom-up (start from base cases and then use iteration);(2) top-down (like recursion with memorization). (1) is faster and doesn't deal with overhead of recursion (2) is easier to implement. Typically, top-down is implemented with a recursive function and hash map, whereas bottom-up is implemented with nested for loops and an array. \n",
    "\n",
    "- to solve a problem using DP, you should define a helper function, with base case, recursion relation and a hashmap to memorize the values.  If you decide to implement it bottom-up, you need a recursion relation and an array to store the values. \n",
    "\n",
    "- to define the recusrion function always aske what happens if we take the action greedy and what happens if we don't, you choose the one with the max or min value.  "
   ]
  },
  {
   "cell_type": "markdown",
   "metadata": {},
   "source": [
    "# Python"
   ]
  },
  {
   "cell_type": "markdown",
   "metadata": {},
   "source": [
    "- sort a list of tuples:   ``edges = sorted(edges, key=lambda x: x[-1])``\n",
    "\n",
    "- infinite number python: ``float('inf')`` or ``INF = sys.maxsize``\n",
    "\n",
    "- how to use heap in python: ``heap = [1,4,3,5], item = heapq.heappop(heap), heapq.heappush(heap, item)`` \n",
    "\n",
    "- for in reverse order ``for i in range(n-1, -1, -1):``\n",
    "\n",
    "- when you write ``while`` loop, you should double check that you moving the index. \n",
    "\n",
    "- how to reverse a string `s` in python? ``s.reverse()`` \n",
    "\n",
    "- get binary representation of a number ``bin(4)``. You can count number of ``1``'s in the binary representation. ``bin(4).count('1')``. Its time complexity is ``O(logN)``, the number of binary bits in N.\n",
    "\n"
   ]
  },
  {
   "cell_type": "markdown",
   "metadata": {},
   "source": [
    "# Mathematics \n",
    "\n",
    "-  $a^n = a^{(n//2)} * a^{(n//2)}$ if $n \\% 2 =0$\n",
    "and  $a^n = a^{(n//2)} * a^{(n//2)}*a$ if $n \\% 2 !=0$\n",
    "- Catalan number is $G_n = \\frac{4^n}{n^\\frac{3}{2}}$, or  $G_n = \\frac{1}{n+1}C(2n,n) $"
   ]
  },
  {
   "cell_type": "code",
   "execution_count": null,
   "metadata": {},
   "outputs": [],
   "source": []
  }
 ],
 "metadata": {
  "kernelspec": {
   "display_name": "Python 3",
   "language": "python",
   "name": "python3"
  },
  "language_info": {
   "codemirror_mode": {
    "name": "ipython",
    "version": 3
   },
   "file_extension": ".py",
   "mimetype": "text/x-python",
   "name": "python",
   "nbconvert_exporter": "python",
   "pygments_lexer": "ipython3",
   "version": "3.7.1"
  }
 },
 "nbformat": 4,
 "nbformat_minor": 2
}
