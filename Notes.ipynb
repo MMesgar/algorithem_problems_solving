{
 "cells": [
  {
   "cell_type": "markdown",
   "metadata": {},
   "source": [
    "# A summary of my mistakes when I was practicing the problems"
   ]
  },
  {
   "cell_type": "markdown",
   "metadata": {},
   "source": [
    "- first solve the problem for yourself. Then write psudo code. Then final code.\n",
    "\n",
    "- always check for empty inputs, in particular in graphs and trees.\n",
    "\n",
    "- grids can be generaly transformed to graphs. \n",
    "\n",
    "- in BFS for tracing the path, define a hashmap (dictionary) for each node and keep the path until to that node. When you explore childern of a node, then add that child to the path to define the new path for each node. To keep track of shortest path length, use a dictionary and save the length from source to each node. A more efficient way could be to save each node in the visited node as a pair. \n",
    "\n",
    "- level order means performing BFS and keep track of the level of each node. Triger an action if the level of the node differs from what we have as the level that we are processing. \n",
    "\n",
    "- To find MST using Kruksal's algorithm, you should use UnionFind data structure.\n",
    "\n",
    "- shortest path:\n",
    "\n",
    "    - if graph is unweighted, apply BFS\n",
    "    - if graph is weighted with non-negative weights, apply Dijkstra’s algorithm (weighted version of BFS, which means initaite dist to each node with infinity and then use heapq instead of normal queue to process the nodes.)\n",
    "    - if graph is weighted including negative weights, apply Bellman-Ford algorithm \n",
    "\n",
    "\n",
    "- if an optimization problem with multiple constraints (e.g. shortest path and minimum number of nodes) should be applied to a graph, define a dictionary for each constraint. Validate each node for each constraint. Add each node to the queue if any condition holds. An alternative idea is to use iterative optimizatoin. We fix one constraint and optimize for one the second constraint. Then we change the value for the second constraint and then optimize for the first constraint. \n",
    "\n",
    "- Once you've figured out that the question can be modeled as a graph problem, you then need to think about the various aspects of a graph i.e.\n",
    "\n",
    "    - directed vs undirected\n",
    "    \n",
    "    - weighted vs unweighted\n",
    "    \n",
    "    - cyclic vs acyclic\n",
    "    \n",
    "- Topological sorting is all about indegree and visited. You pick up the node with zero indegree each time and reduce the indegree of its neighbours. What is important is to check the edge case at the end. If there is no node with indegree 0 then there is no topologial sorted output. You should return an empty list. To check this, the len of the output should be identical to the number of nodes in the graph. \n",
    "\n",
    "- if there are some conditions on the inputs, you should check if the input holds to conditions. \n",
    "\n",
    "- Finidng parallel items needs Khan's algorithm, which performs topological search. \n",
    "\n",
    "## Array\n",
    "\n",
    "- for array problems, one quick solutions is to convert numbers to string and then use string functions, e.g., len and split\n",
    "\n",
    "- if you need to insert into an empty array in different places at a time, you should predefine the list with default values like ``[None]*n``. Then you can easily access each item and fill its value. \n",
    "\n",
    "- if you receive an array questoin, you should ask if your solution should be in place or not. Should we deal with any memory restriction? \n",
    "\n",
    "- if you are removing an item from a list **inplace**, you don't have to shift all next items one to the left. Instead, you can just replace the item you want to delete with the last item in the list. You can do this idea if the order of items does not matter. \n",
    "\n",
    "- when you are dealing with length of array (not the capcity), you can use the ``n=len(arr)`` command. It give you the number of items in the arr. If you remove one item from the arr, n decreases by 1. However, some tasks want you  not to touch the rest of the array. \n",
    "\n",
    "- when the interviewer asks you to improve the space complexity in arrays, you should try using in-place modification. One trick to modify the array is to change the content. If you want to mark visited items in the array without using hashmap or extra space, you just need to make visited items negative. Then based on the sign of the content, you can identify which item is visited or not. \n",
    "\n",
    "\n",
    "\n",
    "- if an array is sorted, we use BS (binary search) to search for an iterm in the array. \n",
    "\n",
    "\n",
    "- Problem to practice: \n",
    "    - In-place Array operations are a big deal for programming interviews, where there is a big focus on minimising both time and space complexity of algorithms.\n",
    "    - removing duplicate items from an array in place. \n",
    "    - 448. Find All Numbers Disappeared in an Array\n",
    "    \n",
    "    \n",
    "\n"
   ]
  },
  {
   "cell_type": "markdown",
   "metadata": {},
   "source": [
    "# Python"
   ]
  },
  {
   "cell_type": "markdown",
   "metadata": {},
   "source": [
    "- sort a list of tuples:   ``edges = sorted(edges, key=lambda x: x[-1])``\n",
    "\n",
    "- infinite number python: ``float('inf')`` or ``INF = sys.maxsize``\n",
    "\n",
    "- how to use heap in python: ``heap = [1,4,3,5], item = heapq.heappop(heap), heapq.heappush(heap, item)`` \n",
    "\n",
    "- for in reverse order ``for i in range(n-1, -1, -1):``\n",
    "\n",
    "- when you write ``while`` loop, you should double check that you moving the index. \n",
    "\n",
    "- \n",
    "\n"
   ]
  },
  {
   "cell_type": "code",
   "execution_count": null,
   "metadata": {},
   "outputs": [],
   "source": []
  }
 ],
 "metadata": {
  "kernelspec": {
   "display_name": "Python 3",
   "language": "python",
   "name": "python3"
  },
  "language_info": {
   "codemirror_mode": {
    "name": "ipython",
    "version": 3
   },
   "file_extension": ".py",
   "mimetype": "text/x-python",
   "name": "python",
   "nbconvert_exporter": "python",
   "pygments_lexer": "ipython3",
   "version": "3.7.1"
  }
 },
 "nbformat": 4,
 "nbformat_minor": 2
}
