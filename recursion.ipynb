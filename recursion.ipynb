{
  "nbformat": 4,
  "nbformat_minor": 0,
  "metadata": {
    "colab": {
      "name": "recursion.ipynb",
      "provenance": [],
      "collapsed_sections": [],
      "authorship_tag": "ABX9TyPv7cI2+gU1tkk6uu//Vmum"
    },
    "kernelspec": {
      "name": "python3",
      "display_name": "Python 3"
    },
    "language_info": {
      "name": "python"
    }
  },
  "cells": [
    {
      "cell_type": "markdown",
      "source": [
        "Recursion is a solution for problems that can be devided into small scopes. \n",
        "A recursion solution consists of three parts: (1) a base case, (2) a recursion on small scopes, and (3) recursion relations are the relationship between the result of a problem and the results of its subproblems. \n"
      ],
      "metadata": {
        "id": "OJVxBaC2TaGx"
      }
    },
    {
      "cell_type": "markdown",
      "source": [
        "\n",
        "\n",
        "---\n",
        "\n",
        "# Problem: Reverse String\n",
        "\n",
        "Write a function that reverses a string. The input string is given as an array of characters s. You must do this by modifying the input array in-place with O(1) extra memory.\n",
        "\n",
        "```python\n",
        "Input: s = [\"h\",\"e\",\"l\",\"l\",\"o\"]\n",
        "Output: [\"o\",\"l\",\"l\",\"e\",\"h\"]\n",
        "```\n",
        "\n"
      ],
      "metadata": {
        "id": "kjaKX4DTUqNO"
      }
    },
    {
      "cell_type": "code",
      "source": [
        "class Solution:\n",
        "    def reverseString(self, s)-> None:\n",
        "        \"\"\"\n",
        "        :type s: List[str]\n",
        "        :rtype: void Do not return anything, modify s in-place instead.\n",
        "        \"\"\"\n",
        "        def helper(start, end, ls):\n",
        "          # 1. base case\n",
        "            if start >= end:\n",
        "                return\n",
        "            # swap the first and last element\n",
        "            ls[start], ls[end] = ls[end], ls[start]\n",
        "            \n",
        "            # 2. solve smaller cases\n",
        "            helper(start+1, end-1, ls)\n",
        "            \n",
        "            # 3. no combination as modifications are in place\n",
        "        helper(0, len(s)-1, s)"
      ],
      "metadata": {
        "id": "omtrKyFgSYCI"
      },
      "execution_count": 3,
      "outputs": []
    },
    {
      "cell_type": "markdown",
      "source": [
        "\n",
        "\n",
        "---\n",
        "\n",
        "# Problem: Reverse Linked List\n",
        "\n",
        "Given the head of a singly linked list, reverse the list, and return the reversed list. \n",
        "\n",
        "\n",
        "```python\n",
        "Input: head = [1,2,3,4,5]\n",
        "Output: [5,4,3,2,1]\n",
        "```\n"
      ],
      "metadata": {
        "id": "GZj2AEGpWSPx"
      }
    },
    {
      "cell_type": "code",
      "source": [
        "# Definition for singly-linked list.\n",
        "class ListNode:\n",
        "    def __init__(self, val=0, next=None):\n",
        "        self.val = val\n",
        "        self.next = next\n",
        "class Solution:\n",
        "    def reverseList(self, head: [ListNode]) -> [ListNode]:\n",
        "        # base case\n",
        "        if head is None or head.next is None:\n",
        "            return head\n",
        "        # breack down the problem\n",
        "        first = head\n",
        "        second = head.next\n",
        "        rest = head.next.next\n",
        "        second.next = first\n",
        "        first.next = None\n",
        "        head = second\n",
        "        if rest is not None:\n",
        "            rest = self.reverseList(rest)\n",
        "            # recusion relation\n",
        "            tail = rest\n",
        "            while tail.next:\n",
        "                tail = tail.next\n",
        "            tail.next = head\n",
        "            head = rest\n",
        "        return head"
      ],
      "metadata": {
        "id": "LTFIODGUW6LA"
      },
      "execution_count": 6,
      "outputs": []
    },
    {
      "cell_type": "markdown",
      "source": [
        "\n",
        "\n",
        "---\n",
        "\n",
        "# Problem: Search in a Binary Search Tree\n",
        "\n",
        "You are given the root of a binary search tree (BST) and an integer value.\n",
        "Find the node in the BST that the node's value equals value and return the subtree rooted with that node. If such a node does not exist, return null.\n",
        "\n",
        "```python\n",
        "Input: root = [4,2,7,1,3], val = 2\n",
        "Output: [2,1,3]\n",
        "```\n",
        "\n",
        "The number of nodes in the tree is in the range [1, 5000].\n",
        "1 <= Node.val <= 107\n",
        "root is a binary search tree.\n",
        "1 <= val <= 10\n",
        "\n",
        "\n"
      ],
      "metadata": {
        "id": "u-qNIABSYp0u"
      }
    },
    {
      "cell_type": "code",
      "source": [
        "# Definition for a binary tree node.\n",
        "from typing import Optional\n",
        "class TreeNode:\n",
        "    def __init__(self, val=0, left=None, right=None):\n",
        "        self.val = val\n",
        "        self.left = left\n",
        "        self.right = right\n",
        "class Solution:\n",
        "    def searchBST(self, root: Optional[TreeNode], val: int) -> Optional[TreeNode]:\n",
        "        # base case\n",
        "        if root is None:\n",
        "            return None\n",
        "        if root.val == val:\n",
        "            return root\n",
        "        # break down to sub problems & recursive relation is to return\n",
        "        if val < root.val:\n",
        "            return self.searchBST(root.left, val)\n",
        "        if val > root.val:\n",
        "            return self.searchBST(root.right, val)\n",
        "        return None"
      ],
      "metadata": {
        "id": "emkj1fKBZFWm"
      },
      "execution_count": 8,
      "outputs": []
    },
    {
      "cell_type": "markdown",
      "source": [
        "\n",
        "\n",
        "---\n",
        "# Problem: Pascal's Triangle II\n",
        "Given an integer rowIndex, return the rowIndexth (0-indexed) row of the Pascal's triangle.\n",
        "\n",
        "In Pascal's triangle, each number is the sum of the two numbers directly above it.\n",
        "\n",
        "Constraints:\n",
        "\n",
        "$0 <= rowIndex <= 33$\n",
        " \n",
        "\n",
        "Follow up: Could you optimize your algorithm to use only O(rowIndex) extra space?\n",
        "\n",
        "```python\n",
        "Input: rowIndex = 3\n",
        "Output: [1,3,3,1]\n",
        "```\n",
        "\n",
        "\n",
        "\n",
        "\n"
      ],
      "metadata": {
        "id": "dQ3raItpbHv_"
      }
    },
    {
      "cell_type": "code",
      "source": [
        "# recursive \n",
        "from typing import List\n",
        "class Solution:\n",
        "  def getRow(self, rowIndex:int) -> List[int]:\n",
        "    '''\n",
        "      0  1 \n",
        "      1  1  1\n",
        "      2  1  2  1\n",
        "      3  1  3  3  1\n",
        "      4  1  4  6  4  1\n",
        "      5  1  5 10  10 5 1\n",
        "        \n",
        "      f(i,j) = f(i-1,j-1) + f(i-1,j)\n",
        "      '''\n",
        "    def f(i,j):\n",
        "      if i ==0 or j==0 or i==j:\n",
        "        return 1\n",
        "      return f(i-1,j-1) + f(i-1,j)\n",
        "\n",
        "    output = []\n",
        "    for c in range(rowIndex):\n",
        "      output.append(f(rowIndex, c))\n",
        "    return output"
      ],
      "metadata": {
        "id": "F34ZuozYkyHS"
      },
      "execution_count": 13,
      "outputs": []
    },
    {
      "cell_type": "code",
      "source": [
        "# Dynamic Programming\n",
        "from typing import List\n",
        "class Solution:\n",
        "    def getRow(self, rowIndex: int) -> List[int]:\n",
        "        '''\n",
        "      0  1 \n",
        "      1  1  1\n",
        "      2  1  2  1\n",
        "      3  1  3  3  1\n",
        "      4  1  4  6  4  1\n",
        "      5  1  5 10  10 5 1\n",
        "        \n",
        "        matrix(i,j) = matrix(i-1,j-1) + matrix(i-1,j)\n",
        "        '''\n",
        "        output = []\n",
        "        matrix = [[1]*i for i in range(1,rowIndex+2)]\n",
        "        for i in range(rowIndex+1):\n",
        "            for j in range(i):\n",
        "                if i!=0 and j!=0 and i!=j:\n",
        "                    matrix[i][j] = matrix[i-1][j-1] + matrix[i-1][j]\n",
        "        return matrix[rowIndex]"
      ],
      "metadata": {
        "id": "iYF0ltUwbmN-"
      },
      "execution_count": 14,
      "outputs": []
    },
    {
      "cell_type": "code",
      "source": [
        "# Memory efficient dynamic programming: save only the last row in the matrix\n",
        "from typing import List\n",
        "class Solution:\n",
        "    def getRow(self, rowIndex: int) -> List[int]:\n",
        "        '''\n",
        "      0  1 \n",
        "      1  1  1\n",
        "      2  1  2  1\n",
        "      3  1  3  3  1\n",
        "      4  1  4  6  4  1\n",
        "      5  1  5 10  10 5 1\n",
        "        \n",
        "        output(j) = old_output(j-1) + old_output(j)\n",
        "        '''\n",
        "        old_output = [1,1]\n",
        "        for i in range(rowIndex+1):\n",
        "            output = []\n",
        "            for j in range(i):\n",
        "                if j==0:\n",
        "                    output.append(1)\n",
        "                else:\n",
        "                    output.append(old_output[j-1] + old_output[j])\n",
        "            output.append(1)\n",
        "            old_output = output[:]\n",
        "        \n",
        "        return output"
      ],
      "metadata": {
        "id": "lljZOm4Zagf-"
      },
      "execution_count": null,
      "outputs": []
    },
    {
      "cell_type": "markdown",
      "source": [
        "# Memorization technique\n",
        "ecursion is often an intuitive and powerful way to implement an algorithm. However, it might bring some undesired penalty to the performance, e.g. duplicate calculations, if we do not use it wisely. For instance, at the end of the previous chapter, we have encountered the duplicate calculations problem in Pascal's Triangle, where some intermediate results are calculated multiple times.\n",
        "\n",
        "In this article we will look closer into the duplicate calculations problem that could happen with recursion. We will then propose a common technique called memoization that can be used to avoid this problem. \n",
        "\n",
        "\n",
        "To eliminate the duplicate calculation in the above case, as many of you would have figured out, one of the ideas would be to store the intermediate results in the cache so that we could reuse them later without re-calculation.\n",
        "\n",
        "This idea is also known as memoization, which is a technique that is frequently used together with recursion. The memoization technique is a good example that demonstrates how one can reduce compute time in exchange for some additional space.\n",
        "\n",
        "The hash table serves as a cache that saves us from duplicate calculations. \n",
        "\n",
        "\n",
        "\n"
      ],
      "metadata": {
        "id": "p6i25eg6rveC"
      }
    },
    {
      "cell_type": "markdown",
      "source": [
        "\n",
        "\n",
        "---\n",
        "\n",
        "# Problem:  Fibonacci number\n",
        "```python\n",
        "F(n) = F(n - 1) + F(n - 2)\n",
        "\n",
        "F(0) = 0, F(1) = 1\n",
        "```\n",
        "\n"
      ],
      "metadata": {
        "id": "KtWG75Sjw8dK"
      }
    },
    {
      "cell_type": "code",
      "source": [
        "def fibonacci(n):\n",
        "    \"\"\"\n",
        "    :type n: int\n",
        "    :rtype: int\n",
        "    \"\"\"\n",
        "    if n < 2:\n",
        "        return n\n",
        "    else:\n",
        "        return fibonacci(n-1) + fibonacci(n-2)"
      ],
      "metadata": {
        "id": "SWaKffTCwrZY"
      },
      "execution_count": 16,
      "outputs": []
    },
    {
      "cell_type": "markdown",
      "source": [
        "Let's use a cache to perform memorization:"
      ],
      "metadata": {
        "id": "-LtyBsq9xJ-l"
      }
    },
    {
      "cell_type": "code",
      "source": [
        "def fib(self, N):\n",
        "    \"\"\"\n",
        "    :type N: int\n",
        "    :rtype: int\n",
        "    \"\"\"\n",
        "    cache = {}\n",
        "    def recur_fib(N):\n",
        "        if N in cache:\n",
        "            return cache[N]\n",
        "\n",
        "        if N < 2:\n",
        "            result = N\n",
        "        else:\n",
        "            result = recur_fib(N-1) + recur_fib(N-2)\n",
        "\n",
        "        # put result in cache for later reference.\n",
        "        cache[N] = result\n",
        "        return result\n",
        "\n",
        "    return recur_fib(N)"
      ],
      "metadata": {
        "id": "myCxJk3ew65i"
      },
      "execution_count": 18,
      "outputs": []
    },
    {
      "cell_type": "code",
      "source": [
        ""
      ],
      "metadata": {
        "id": "H5lLWF2vxJHO"
      },
      "execution_count": null,
      "outputs": []
    }
  ]
}